{
 "cells": [
  {
   "attachments": {},
   "cell_type": "markdown",
   "metadata": {},
   "source": [
    "# **Ejercicios de pair programming Módulo 2 - Sprint 2**\n",
    "## **ETL I. Extracción - API's**\n",
    "---"
   ]
  },
  {
   "attachments": {},
   "cell_type": "markdown",
   "metadata": {},
   "source": [
    "1. Nuestros jefes están especialmente interesados en los datos de generación de las energías renovables y no renovables a nivel nacional. En concreto, nos piden sacar toda la información para las fechas de 1 de Enero del 2011 hasta el 31 de Diciembre del 2022. De toda la información que tenemos de generación queremos la evolucion de renovable y no renovable. Además deberemos incluir una columna nueva identificando si el dato corresponde a energía renovable o no renovable. NOTA: nos piden que el código debe estar en una función. Al final deberemos tener un dataframe como el siguiente:"
   ]
  },
  {
   "cell_type": "code",
   "execution_count": 2,
   "metadata": {},
   "outputs": [],
   "source": [
    "import requests\n",
    "import pandas as pd\n",
    "import numpy as np\n",
    "\n",
    "from IPython.core.interactiveshell import InteractiveShell\n",
    "InteractiveShell.ast_node_interactivity = \"all\""
   ]
  },
  {
   "cell_type": "code",
   "execution_count": 3,
   "metadata": {},
   "outputs": [
    {
     "data": {
      "text/plain": [
       "200"
      ]
     },
     "execution_count": 3,
     "metadata": {},
     "output_type": "execute_result"
    },
    {
     "data": {
      "text/plain": [
       "'OK'"
      ]
     },
     "execution_count": 3,
     "metadata": {},
     "output_type": "execute_result"
    }
   ],
   "source": [
    "# realizamos el proceso para un año y un elemento\n",
    "url = 'https://apidatos.ree.es/es/datos/generacion/evolucion-renovable-no-renovable?start_date=2011-01-01T00:00&end_date=2011-12-31T23:59&time_trunc=year'\n",
    "\n",
    "response = requests.get(url=url)\n",
    "\n",
    "response.status_code\n",
    "\n",
    "response.reason\n"
   ]
  },
  {
   "cell_type": "code",
   "execution_count": 4,
   "metadata": {},
   "outputs": [
    {
     "data": {
      "text/plain": [
       "{'data': {'type': 'Evolución de la generación renovable/no renovable',\n",
       "  'id': 'gen2',\n",
       "  'attributes': {'title': 'Evolución de la generación renovable/no renovable',\n",
       "   'last-update': '2019-06-12T15:32:24.000+02:00',\n",
       "   'description': None},\n",
       "  'meta': {'cache-control': {'cache': 'HIT',\n",
       "    'expireAt': '2023-05-24T07:50:21'}}},\n",
       " 'included': [{'type': 'Renovable',\n",
       "   'id': '10299',\n",
       "   'groupId': None,\n",
       "   'attributes': {'title': 'Renovable',\n",
       "    'description': 'Energía renovable: incluye hidráulica, hidroeólica, eólica, solar fotovoltaica, solar térmica, otras renovables y residuos renovables.',\n",
       "    'color': '#92d050',\n",
       "    'type': 'Renovable',\n",
       "    'magnitude': None,\n",
       "    'composite': False,\n",
       "    'last-update': '2019-06-12T15:32:24.000+02:00',\n",
       "    'values': [{'value': 86667052.8500005,\n",
       "      'percentage': 0.31024115642116423,\n",
       "      'datetime': '2011-01-01T00:00:00.000+01:00'}]}},\n",
       "  {'type': 'No renovable',\n",
       "   'id': '10298',\n",
       "   'groupId': None,\n",
       "   'attributes': {'title': 'No renovable',\n",
       "    'description': None,\n",
       "    'color': '#666666',\n",
       "    'type': 'No renovable',\n",
       "    'magnitude': None,\n",
       "    'composite': False,\n",
       "    'last-update': '2019-06-12T15:32:24.000+02:00',\n",
       "    'values': [{'value': 192686769.3500001,\n",
       "      'percentage': 0.6897588435788357,\n",
       "      'datetime': '2011-01-01T00:00:00.000+01:00'}]}}]}"
      ]
     },
     "execution_count": 4,
     "metadata": {},
     "output_type": "execute_result"
    }
   ],
   "source": [
    "datos_electricidad = response.json()\n",
    "datos_electricidad"
   ]
  },
  {
   "cell_type": "code",
   "execution_count": 5,
   "metadata": {},
   "outputs": [
    {
     "data": {
      "text/plain": [
       "dict_keys(['data', 'included'])"
      ]
     },
     "execution_count": 5,
     "metadata": {},
     "output_type": "execute_result"
    }
   ],
   "source": [
    "datos_electricidad.keys()"
   ]
  },
  {
   "cell_type": "code",
   "execution_count": 6,
   "metadata": {},
   "outputs": [
    {
     "data": {
      "text/plain": [
       "[{'type': 'Renovable',\n",
       "  'id': '10299',\n",
       "  'groupId': None,\n",
       "  'attributes': {'title': 'Renovable',\n",
       "   'description': 'Energía renovable: incluye hidráulica, hidroeólica, eólica, solar fotovoltaica, solar térmica, otras renovables y residuos renovables.',\n",
       "   'color': '#92d050',\n",
       "   'type': 'Renovable',\n",
       "   'magnitude': None,\n",
       "   'composite': False,\n",
       "   'last-update': '2019-06-12T15:32:24.000+02:00',\n",
       "   'values': [{'value': 86667052.8500005,\n",
       "     'percentage': 0.31024115642116423,\n",
       "     'datetime': '2011-01-01T00:00:00.000+01:00'}]}},\n",
       " {'type': 'No renovable',\n",
       "  'id': '10298',\n",
       "  'groupId': None,\n",
       "  'attributes': {'title': 'No renovable',\n",
       "   'description': None,\n",
       "   'color': '#666666',\n",
       "   'type': 'No renovable',\n",
       "   'magnitude': None,\n",
       "   'composite': False,\n",
       "   'last-update': '2019-06-12T15:32:24.000+02:00',\n",
       "   'values': [{'value': 192686769.3500001,\n",
       "     'percentage': 0.6897588435788357,\n",
       "     'datetime': '2011-01-01T00:00:00.000+01:00'}]}}]"
      ]
     },
     "execution_count": 6,
     "metadata": {},
     "output_type": "execute_result"
    }
   ],
   "source": [
    "datos_electricidad['included']"
   ]
  },
  {
   "cell_type": "code",
   "execution_count": 7,
   "metadata": {},
   "outputs": [
    {
     "data": {
      "text/plain": [
       "2"
      ]
     },
     "execution_count": 7,
     "metadata": {},
     "output_type": "execute_result"
    }
   ],
   "source": [
    "len(datos_electricidad['included'])"
   ]
  },
  {
   "cell_type": "code",
   "execution_count": 8,
   "metadata": {},
   "outputs": [
    {
     "data": {
      "text/plain": [
       "{'type': 'Renovable',\n",
       " 'id': '10299',\n",
       " 'groupId': None,\n",
       " 'attributes': {'title': 'Renovable',\n",
       "  'description': 'Energía renovable: incluye hidráulica, hidroeólica, eólica, solar fotovoltaica, solar térmica, otras renovables y residuos renovables.',\n",
       "  'color': '#92d050',\n",
       "  'type': 'Renovable',\n",
       "  'magnitude': None,\n",
       "  'composite': False,\n",
       "  'last-update': '2019-06-12T15:32:24.000+02:00',\n",
       "  'values': [{'value': 86667052.8500005,\n",
       "    'percentage': 0.31024115642116423,\n",
       "    'datetime': '2011-01-01T00:00:00.000+01:00'}]}}"
      ]
     },
     "execution_count": 8,
     "metadata": {},
     "output_type": "execute_result"
    }
   ],
   "source": [
    "datos_electricidad['included'][0]\n",
    "\n",
    "#hemos comprobado que tenemos que acceder a los dos índices que incluyen las dos categorías(renov. y no renov.)"
   ]
  },
  {
   "cell_type": "code",
   "execution_count": 9,
   "metadata": {},
   "outputs": [
    {
     "data": {
      "text/plain": [
       "dict_keys(['type', 'id', 'groupId', 'attributes'])"
      ]
     },
     "execution_count": 9,
     "metadata": {},
     "output_type": "execute_result"
    }
   ],
   "source": [
    "datos_electricidad['included'][0].keys()"
   ]
  },
  {
   "cell_type": "code",
   "execution_count": 10,
   "metadata": {},
   "outputs": [
    {
     "data": {
      "text/plain": [
       "'Renovable'"
      ]
     },
     "execution_count": 10,
     "metadata": {},
     "output_type": "execute_result"
    }
   ],
   "source": [
    "datos_electricidad['included'][0]['type']"
   ]
  },
  {
   "cell_type": "code",
   "execution_count": 11,
   "metadata": {},
   "outputs": [
    {
     "data": {
      "text/plain": [
       "'No renovable'"
      ]
     },
     "execution_count": 11,
     "metadata": {},
     "output_type": "execute_result"
    }
   ],
   "source": [
    "datos_electricidad['included'][1]['type']"
   ]
  },
  {
   "cell_type": "code",
   "execution_count": 12,
   "metadata": {},
   "outputs": [
    {
     "data": {
      "text/plain": [
       "{'title': 'Renovable',\n",
       " 'description': 'Energía renovable: incluye hidráulica, hidroeólica, eólica, solar fotovoltaica, solar térmica, otras renovables y residuos renovables.',\n",
       " 'color': '#92d050',\n",
       " 'type': 'Renovable',\n",
       " 'magnitude': None,\n",
       " 'composite': False,\n",
       " 'last-update': '2019-06-12T15:32:24.000+02:00',\n",
       " 'values': [{'value': 86667052.8500005,\n",
       "   'percentage': 0.31024115642116423,\n",
       "   'datetime': '2011-01-01T00:00:00.000+01:00'}]}"
      ]
     },
     "execution_count": 12,
     "metadata": {},
     "output_type": "execute_result"
    }
   ],
   "source": [
    "datos_electricidad['included'][0]['attributes']"
   ]
  },
  {
   "cell_type": "code",
   "execution_count": 13,
   "metadata": {},
   "outputs": [
    {
     "data": {
      "text/plain": [
       "dict_keys(['title', 'description', 'color', 'type', 'magnitude', 'composite', 'last-update', 'values'])"
      ]
     },
     "execution_count": 13,
     "metadata": {},
     "output_type": "execute_result"
    }
   ],
   "source": [
    "datos_electricidad['included'][0]['attributes'].keys()"
   ]
  },
  {
   "cell_type": "code",
   "execution_count": 14,
   "metadata": {},
   "outputs": [
    {
     "data": {
      "text/plain": [
       "[{'value': 86667052.8500005,\n",
       "  'percentage': 0.31024115642116423,\n",
       "  'datetime': '2011-01-01T00:00:00.000+01:00'}]"
      ]
     },
     "execution_count": 14,
     "metadata": {},
     "output_type": "execute_result"
    }
   ],
   "source": [
    "datos_electricidad['included'][0]['attributes']['values']"
   ]
  },
  {
   "cell_type": "code",
   "execution_count": 15,
   "metadata": {},
   "outputs": [
    {
     "data": {
      "text/html": [
       "<div>\n",
       "<style scoped>\n",
       "    .dataframe tbody tr th:only-of-type {\n",
       "        vertical-align: middle;\n",
       "    }\n",
       "\n",
       "    .dataframe tbody tr th {\n",
       "        vertical-align: top;\n",
       "    }\n",
       "\n",
       "    .dataframe thead th {\n",
       "        text-align: right;\n",
       "    }\n",
       "</style>\n",
       "<table border=\"1\" class=\"dataframe\">\n",
       "  <thead>\n",
       "    <tr style=\"text-align: right;\">\n",
       "      <th></th>\n",
       "      <th>value</th>\n",
       "      <th>percentage</th>\n",
       "      <th>datetime</th>\n",
       "    </tr>\n",
       "  </thead>\n",
       "  <tbody>\n",
       "    <tr>\n",
       "      <th>0</th>\n",
       "      <td>8.666705e+07</td>\n",
       "      <td>0.310241</td>\n",
       "      <td>2011-01-01T00:00:00.000+01:00</td>\n",
       "    </tr>\n",
       "  </tbody>\n",
       "</table>\n",
       "</div>"
      ],
      "text/plain": [
       "          value  percentage                       datetime\n",
       "0  8.666705e+07    0.310241  2011-01-01T00:00:00.000+01:00"
      ]
     },
     "execution_count": 15,
     "metadata": {},
     "output_type": "execute_result"
    }
   ],
   "source": [
    "# convertimos a DF\n",
    "\n",
    "df = pd.DataFrame(datos_electricidad['included'][0]['attributes']['values']) # lo mismo habría que hacer para el index 1\n",
    "df.head()"
   ]
  },
  {
   "cell_type": "code",
   "execution_count": 16,
   "metadata": {},
   "outputs": [
    {
     "data": {
      "text/html": [
       "<div>\n",
       "<style scoped>\n",
       "    .dataframe tbody tr th:only-of-type {\n",
       "        vertical-align: middle;\n",
       "    }\n",
       "\n",
       "    .dataframe tbody tr th {\n",
       "        vertical-align: top;\n",
       "    }\n",
       "\n",
       "    .dataframe thead th {\n",
       "        text-align: right;\n",
       "    }\n",
       "</style>\n",
       "<table border=\"1\" class=\"dataframe\">\n",
       "  <thead>\n",
       "    <tr style=\"text-align: right;\">\n",
       "      <th></th>\n",
       "      <th>value</th>\n",
       "      <th>percentage</th>\n",
       "      <th>datetime</th>\n",
       "      <th>type</th>\n",
       "    </tr>\n",
       "  </thead>\n",
       "  <tbody>\n",
       "    <tr>\n",
       "      <th>0</th>\n",
       "      <td>8.666705e+07</td>\n",
       "      <td>0.310241</td>\n",
       "      <td>2011-01-01T00:00:00.000+01:00</td>\n",
       "      <td>Renovable</td>\n",
       "    </tr>\n",
       "  </tbody>\n",
       "</table>\n",
       "</div>"
      ],
      "text/plain": [
       "          value  percentage                       datetime       type\n",
       "0  8.666705e+07    0.310241  2011-01-01T00:00:00.000+01:00  Renovable"
      ]
     },
     "execution_count": 16,
     "metadata": {},
     "output_type": "execute_result"
    }
   ],
   "source": [
    "df['type'] = datos_electricidad['included'][0]['type'] # lo mismo habría que hacer para el index 1 (no renovable)\n",
    "df.head()"
   ]
  },
  {
   "cell_type": "code",
   "execution_count": 17,
   "metadata": {},
   "outputs": [],
   "source": [
    "def renovables_no_renovables(lang, category, widget, start_year, end_year, time_trunc):\n",
    "    \n",
    "    df_vacio = pd.DataFrame()\n",
    "\n",
    "    for año in range(start_year, end_year+1):\n",
    "        url = f'https://apidatos.ree.es/{lang}/datos/{category}/{widget}?start_date={año}-01-01T00:00&end_date={año}-12-31T23:59&time_trunc={time_trunc}'\n",
    "        response = requests.get(url=url)\n",
    "        print(f'Status code año:{año}: {response.status_code}')\n",
    "        print(f'Reason año: {año}: {response.reason}')\n",
    "        \n",
    "        datos_electricidad = response.json()\n",
    "        df_ren = pd.DataFrame(datos_electricidad['included'][0]['attributes']['values'])\n",
    "        df_ren['type'] = datos_electricidad['included'][0]['type']\n",
    "        df_no_ren = pd.DataFrame(datos_electricidad['included'][1]['attributes']['values'])\n",
    "        df_no_ren['type'] = datos_electricidad['included'][1]['type']\n",
    "        df_vacio = pd.concat([df_vacio, df_ren, df_no_ren], axis=0)\n",
    "    return df_vacio"
   ]
  },
  {
   "cell_type": "code",
   "execution_count": 18,
   "metadata": {},
   "outputs": [
    {
     "name": "stdout",
     "output_type": "stream",
     "text": [
      "Status code año:2011: 200\n",
      "Reason año: 2011: OK\n",
      "Status code año:2012: 200\n",
      "Reason año: 2012: OK\n",
      "Status code año:2013: 200\n",
      "Reason año: 2013: OK\n",
      "Status code año:2014: 200\n",
      "Reason año: 2014: OK\n",
      "Status code año:2015: 200\n",
      "Reason año: 2015: OK\n",
      "Status code año:2016: 200\n",
      "Reason año: 2016: OK\n",
      "Status code año:2017: 200\n",
      "Reason año: 2017: OK\n",
      "Status code año:2018: 200\n",
      "Reason año: 2018: OK\n",
      "Status code año:2019: 200\n",
      "Reason año: 2019: OK\n",
      "Status code año:2020: 200\n",
      "Reason año: 2020: OK\n",
      "Status code año:2021: 200\n",
      "Reason año: 2021: OK\n",
      "Status code año:2022: 200\n",
      "Reason año: 2022: OK\n"
     ]
    },
    {
     "data": {
      "text/html": [
       "<div>\n",
       "<style scoped>\n",
       "    .dataframe tbody tr th:only-of-type {\n",
       "        vertical-align: middle;\n",
       "    }\n",
       "\n",
       "    .dataframe tbody tr th {\n",
       "        vertical-align: top;\n",
       "    }\n",
       "\n",
       "    .dataframe thead th {\n",
       "        text-align: right;\n",
       "    }\n",
       "</style>\n",
       "<table border=\"1\" class=\"dataframe\">\n",
       "  <thead>\n",
       "    <tr style=\"text-align: right;\">\n",
       "      <th></th>\n",
       "      <th>value</th>\n",
       "      <th>percentage</th>\n",
       "      <th>datetime</th>\n",
       "      <th>type</th>\n",
       "    </tr>\n",
       "  </thead>\n",
       "  <tbody>\n",
       "    <tr>\n",
       "      <th>0</th>\n",
       "      <td>8.666705e+07</td>\n",
       "      <td>0.310241</td>\n",
       "      <td>2011-01-01T00:00:00.000+01:00</td>\n",
       "      <td>Renovable</td>\n",
       "    </tr>\n",
       "    <tr>\n",
       "      <th>0</th>\n",
       "      <td>1.926868e+08</td>\n",
       "      <td>0.689759</td>\n",
       "      <td>2011-01-01T00:00:00.000+01:00</td>\n",
       "      <td>No renovable</td>\n",
       "    </tr>\n",
       "    <tr>\n",
       "      <th>0</th>\n",
       "      <td>8.533872e+07</td>\n",
       "      <td>0.301424</td>\n",
       "      <td>2012-01-01T00:00:00.000+01:00</td>\n",
       "      <td>Renovable</td>\n",
       "    </tr>\n",
       "    <tr>\n",
       "      <th>0</th>\n",
       "      <td>1.977799e+08</td>\n",
       "      <td>0.698576</td>\n",
       "      <td>2012-01-01T00:00:00.000+01:00</td>\n",
       "      <td>No renovable</td>\n",
       "    </tr>\n",
       "    <tr>\n",
       "      <th>0</th>\n",
       "      <td>1.097577e+08</td>\n",
       "      <td>0.401622</td>\n",
       "      <td>2013-01-01T00:00:00.000+01:00</td>\n",
       "      <td>Renovable</td>\n",
       "    </tr>\n",
       "    <tr>\n",
       "      <th>0</th>\n",
       "      <td>1.635286e+08</td>\n",
       "      <td>0.598378</td>\n",
       "      <td>2013-01-01T00:00:00.000+01:00</td>\n",
       "      <td>No renovable</td>\n",
       "    </tr>\n",
       "    <tr>\n",
       "      <th>0</th>\n",
       "      <td>1.078761e+08</td>\n",
       "      <td>0.404771</td>\n",
       "      <td>2014-01-01T00:00:00.000+01:00</td>\n",
       "      <td>Renovable</td>\n",
       "    </tr>\n",
       "    <tr>\n",
       "      <th>0</th>\n",
       "      <td>1.586356e+08</td>\n",
       "      <td>0.595229</td>\n",
       "      <td>2014-01-01T00:00:00.000+01:00</td>\n",
       "      <td>No renovable</td>\n",
       "    </tr>\n",
       "    <tr>\n",
       "      <th>0</th>\n",
       "      <td>9.408811e+07</td>\n",
       "      <td>0.351792</td>\n",
       "      <td>2015-01-01T00:00:00.000+01:00</td>\n",
       "      <td>Renovable</td>\n",
       "    </tr>\n",
       "    <tr>\n",
       "      <th>0</th>\n",
       "      <td>1.733657e+08</td>\n",
       "      <td>0.648208</td>\n",
       "      <td>2015-01-01T00:00:00.000+01:00</td>\n",
       "      <td>No renovable</td>\n",
       "    </tr>\n",
       "    <tr>\n",
       "      <th>0</th>\n",
       "      <td>1.010892e+08</td>\n",
       "      <td>0.386079</td>\n",
       "      <td>2016-01-01T00:00:00.000+01:00</td>\n",
       "      <td>Renovable</td>\n",
       "    </tr>\n",
       "    <tr>\n",
       "      <th>0</th>\n",
       "      <td>1.607465e+08</td>\n",
       "      <td>0.613921</td>\n",
       "      <td>2016-01-01T00:00:00.000+01:00</td>\n",
       "      <td>No renovable</td>\n",
       "    </tr>\n",
       "    <tr>\n",
       "      <th>0</th>\n",
       "      <td>8.461087e+07</td>\n",
       "      <td>0.322566</td>\n",
       "      <td>2017-01-01T00:00:00.000+01:00</td>\n",
       "      <td>Renovable</td>\n",
       "    </tr>\n",
       "    <tr>\n",
       "      <th>0</th>\n",
       "      <td>1.776949e+08</td>\n",
       "      <td>0.677434</td>\n",
       "      <td>2017-01-01T00:00:00.000+01:00</td>\n",
       "      <td>No renovable</td>\n",
       "    </tr>\n",
       "    <tr>\n",
       "      <th>0</th>\n",
       "      <td>1.003444e+08</td>\n",
       "      <td>0.384488</td>\n",
       "      <td>2018-01-01T00:00:00.000+01:00</td>\n",
       "      <td>Renovable</td>\n",
       "    </tr>\n",
       "    <tr>\n",
       "      <th>0</th>\n",
       "      <td>1.606375e+08</td>\n",
       "      <td>0.615512</td>\n",
       "      <td>2018-01-01T00:00:00.000+01:00</td>\n",
       "      <td>No renovable</td>\n",
       "    </tr>\n",
       "    <tr>\n",
       "      <th>0</th>\n",
       "      <td>9.791330e+07</td>\n",
       "      <td>0.375393</td>\n",
       "      <td>2019-01-01T00:00:00.000+01:00</td>\n",
       "      <td>Renovable</td>\n",
       "    </tr>\n",
       "    <tr>\n",
       "      <th>0</th>\n",
       "      <td>1.629155e+08</td>\n",
       "      <td>0.624607</td>\n",
       "      <td>2019-01-01T00:00:00.000+01:00</td>\n",
       "      <td>No renovable</td>\n",
       "    </tr>\n",
       "    <tr>\n",
       "      <th>0</th>\n",
       "      <td>1.106052e+08</td>\n",
       "      <td>0.439959</td>\n",
       "      <td>2020-01-01T00:00:00.000+01:00</td>\n",
       "      <td>Renovable</td>\n",
       "    </tr>\n",
       "    <tr>\n",
       "      <th>0</th>\n",
       "      <td>1.407936e+08</td>\n",
       "      <td>0.560041</td>\n",
       "      <td>2020-01-01T00:00:00.000+01:00</td>\n",
       "      <td>No renovable</td>\n",
       "    </tr>\n",
       "    <tr>\n",
       "      <th>0</th>\n",
       "      <td>1.214591e+08</td>\n",
       "      <td>0.467130</td>\n",
       "      <td>2021-01-01T00:00:00.000+01:00</td>\n",
       "      <td>Renovable</td>\n",
       "    </tr>\n",
       "    <tr>\n",
       "      <th>0</th>\n",
       "      <td>1.385520e+08</td>\n",
       "      <td>0.532870</td>\n",
       "      <td>2021-01-01T00:00:00.000+01:00</td>\n",
       "      <td>No renovable</td>\n",
       "    </tr>\n",
       "    <tr>\n",
       "      <th>0</th>\n",
       "      <td>1.165831e+08</td>\n",
       "      <td>0.421921</td>\n",
       "      <td>2022-01-01T00:00:00.000+01:00</td>\n",
       "      <td>Renovable</td>\n",
       "    </tr>\n",
       "    <tr>\n",
       "      <th>0</th>\n",
       "      <td>1.597322e+08</td>\n",
       "      <td>0.578079</td>\n",
       "      <td>2022-01-01T00:00:00.000+01:00</td>\n",
       "      <td>No renovable</td>\n",
       "    </tr>\n",
       "  </tbody>\n",
       "</table>\n",
       "</div>"
      ],
      "text/plain": [
       "          value  percentage                       datetime          type\n",
       "0  8.666705e+07    0.310241  2011-01-01T00:00:00.000+01:00     Renovable\n",
       "0  1.926868e+08    0.689759  2011-01-01T00:00:00.000+01:00  No renovable\n",
       "0  8.533872e+07    0.301424  2012-01-01T00:00:00.000+01:00     Renovable\n",
       "0  1.977799e+08    0.698576  2012-01-01T00:00:00.000+01:00  No renovable\n",
       "0  1.097577e+08    0.401622  2013-01-01T00:00:00.000+01:00     Renovable\n",
       "0  1.635286e+08    0.598378  2013-01-01T00:00:00.000+01:00  No renovable\n",
       "0  1.078761e+08    0.404771  2014-01-01T00:00:00.000+01:00     Renovable\n",
       "0  1.586356e+08    0.595229  2014-01-01T00:00:00.000+01:00  No renovable\n",
       "0  9.408811e+07    0.351792  2015-01-01T00:00:00.000+01:00     Renovable\n",
       "0  1.733657e+08    0.648208  2015-01-01T00:00:00.000+01:00  No renovable\n",
       "0  1.010892e+08    0.386079  2016-01-01T00:00:00.000+01:00     Renovable\n",
       "0  1.607465e+08    0.613921  2016-01-01T00:00:00.000+01:00  No renovable\n",
       "0  8.461087e+07    0.322566  2017-01-01T00:00:00.000+01:00     Renovable\n",
       "0  1.776949e+08    0.677434  2017-01-01T00:00:00.000+01:00  No renovable\n",
       "0  1.003444e+08    0.384488  2018-01-01T00:00:00.000+01:00     Renovable\n",
       "0  1.606375e+08    0.615512  2018-01-01T00:00:00.000+01:00  No renovable\n",
       "0  9.791330e+07    0.375393  2019-01-01T00:00:00.000+01:00     Renovable\n",
       "0  1.629155e+08    0.624607  2019-01-01T00:00:00.000+01:00  No renovable\n",
       "0  1.106052e+08    0.439959  2020-01-01T00:00:00.000+01:00     Renovable\n",
       "0  1.407936e+08    0.560041  2020-01-01T00:00:00.000+01:00  No renovable\n",
       "0  1.214591e+08    0.467130  2021-01-01T00:00:00.000+01:00     Renovable\n",
       "0  1.385520e+08    0.532870  2021-01-01T00:00:00.000+01:00  No renovable\n",
       "0  1.165831e+08    0.421921  2022-01-01T00:00:00.000+01:00     Renovable\n",
       "0  1.597322e+08    0.578079  2022-01-01T00:00:00.000+01:00  No renovable"
      ]
     },
     "execution_count": 18,
     "metadata": {},
     "output_type": "execute_result"
    }
   ],
   "source": [
    "df_renov_no_renov = renovables_no_renovables('es', 'generacion', 'evolucion-renovable-no-renovable', 2011, 2022, 'year')\n",
    "df_renov_no_renov"
   ]
  },
  {
   "attachments": {},
   "cell_type": "markdown",
   "metadata": {},
   "source": [
    "2. Sacaremos la misma información que en el ejericio anterior, pero en este caso por CCAA. Para esto necesitaremos los códigos de cada una de las comunidades autónomas que encontraréis en el siguiente diccionario:"
   ]
  },
  {
   "cell_type": "code",
   "execution_count": 18,
   "metadata": {},
   "outputs": [],
   "source": [
    "cod_comunidades = {'Ceuta': 8744,\n",
    "                    'Melilla': 8745,\n",
    "                    'Andalucía': 4,\n",
    "                    'Aragón': 5,\n",
    "                    'Cantabria': 6,\n",
    "                    'Castilla - La Mancha': 7,\n",
    "                    'Castilla y León': 8,\n",
    "                    'Cataluña': 9,\n",
    "                    'País Vasco': 10,\n",
    "                    'Principado de Asturias': 11,\n",
    "                    'Comunidad de Madrid': 13,\n",
    "                    'Comunidad Foral de Navarra': 14,\n",
    "                    'Comunitat Valenciana': 15,\n",
    "                    'Extremadura': 16,\n",
    "                    'Galicia': 17,\n",
    "                    'Illes Balears': 8743,\n",
    "                    'Canarias': 8742,\n",
    "                    'Región de Murcia': 21,\n",
    "                    'La Rioja': 20}"
   ]
  },
  {
   "cell_type": "code",
   "execution_count": 19,
   "metadata": {},
   "outputs": [
    {
     "data": {
      "text/plain": [
       "200"
      ]
     },
     "execution_count": 19,
     "metadata": {},
     "output_type": "execute_result"
    },
    {
     "data": {
      "text/plain": [
       "'OK'"
      ]
     },
     "execution_count": 19,
     "metadata": {},
     "output_type": "execute_result"
    }
   ],
   "source": [
    "# realizamos el proceso para un año y un elemento para una comunidad autónoma\n",
    "url2 = 'https://apidatos.ree.es/es/datos/generacion/evolucion-renovable-no-renovable?start_date=2011-01-01T00:00&end_date=2011-12-31T23:59&time_trunc=year&geo_trunc=electric_system&geo_limit=ccaa&geo_ids=7'\n",
    "\n",
    "response2 = requests.get(url=url)\n",
    "\n",
    "response2.status_code\n",
    "\n",
    "response2.reason\n"
   ]
  },
  {
   "cell_type": "code",
   "execution_count": 23,
   "metadata": {},
   "outputs": [
    {
     "data": {
      "text/plain": [
       "[{'value': 86667052.8500005,\n",
       "  'percentage': 0.31024115642116423,\n",
       "  'datetime': '2011-01-01T00:00:00.000+01:00'}]"
      ]
     },
     "execution_count": 23,
     "metadata": {},
     "output_type": "execute_result"
    }
   ],
   "source": [
    "#comprobamos que la estructura de los datos sigue siendo la misma\n",
    "datos_electricidad2 = response2.json()\n",
    "datos_electricidad2['included'][0]['attributes']['values']"
   ]
  },
  {
   "cell_type": "code",
   "execution_count": 24,
   "metadata": {},
   "outputs": [
    {
     "data": {
      "text/html": [
       "<div>\n",
       "<style scoped>\n",
       "    .dataframe tbody tr th:only-of-type {\n",
       "        vertical-align: middle;\n",
       "    }\n",
       "\n",
       "    .dataframe tbody tr th {\n",
       "        vertical-align: top;\n",
       "    }\n",
       "\n",
       "    .dataframe thead th {\n",
       "        text-align: right;\n",
       "    }\n",
       "</style>\n",
       "<table border=\"1\" class=\"dataframe\">\n",
       "  <thead>\n",
       "    <tr style=\"text-align: right;\">\n",
       "      <th></th>\n",
       "      <th>value</th>\n",
       "      <th>percentage</th>\n",
       "      <th>datetime</th>\n",
       "    </tr>\n",
       "  </thead>\n",
       "  <tbody>\n",
       "    <tr>\n",
       "      <th>0</th>\n",
       "      <td>8.666705e+07</td>\n",
       "      <td>0.310241</td>\n",
       "      <td>2011-01-01T00:00:00.000+01:00</td>\n",
       "    </tr>\n",
       "  </tbody>\n",
       "</table>\n",
       "</div>"
      ],
      "text/plain": [
       "          value  percentage                       datetime\n",
       "0  8.666705e+07    0.310241  2011-01-01T00:00:00.000+01:00"
      ]
     },
     "execution_count": 24,
     "metadata": {},
     "output_type": "execute_result"
    }
   ],
   "source": [
    "df_ren = pd.DataFrame(datos_electricidad2['included'][0]['attributes']['values'])\n",
    "df_ren"
   ]
  },
  {
   "cell_type": "code",
   "execution_count": 25,
   "metadata": {},
   "outputs": [
    {
     "data": {
      "text/plain": [
       "[{'value': 192686769.3500001,\n",
       "  'percentage': 0.6897588435788357,\n",
       "  'datetime': '2011-01-01T00:00:00.000+01:00'}]"
      ]
     },
     "execution_count": 25,
     "metadata": {},
     "output_type": "execute_result"
    }
   ],
   "source": [
    "datos_electricidad2['included'][1]['attributes']['values']"
   ]
  },
  {
   "cell_type": "code",
   "execution_count": 26,
   "metadata": {},
   "outputs": [
    {
     "data": {
      "text/html": [
       "<div>\n",
       "<style scoped>\n",
       "    .dataframe tbody tr th:only-of-type {\n",
       "        vertical-align: middle;\n",
       "    }\n",
       "\n",
       "    .dataframe tbody tr th {\n",
       "        vertical-align: top;\n",
       "    }\n",
       "\n",
       "    .dataframe thead th {\n",
       "        text-align: right;\n",
       "    }\n",
       "</style>\n",
       "<table border=\"1\" class=\"dataframe\">\n",
       "  <thead>\n",
       "    <tr style=\"text-align: right;\">\n",
       "      <th></th>\n",
       "      <th>value</th>\n",
       "      <th>percentage</th>\n",
       "      <th>datetime</th>\n",
       "    </tr>\n",
       "  </thead>\n",
       "  <tbody>\n",
       "    <tr>\n",
       "      <th>0</th>\n",
       "      <td>1.926868e+08</td>\n",
       "      <td>0.689759</td>\n",
       "      <td>2011-01-01T00:00:00.000+01:00</td>\n",
       "    </tr>\n",
       "  </tbody>\n",
       "</table>\n",
       "</div>"
      ],
      "text/plain": [
       "          value  percentage                       datetime\n",
       "0  1.926868e+08    0.689759  2011-01-01T00:00:00.000+01:00"
      ]
     },
     "execution_count": 26,
     "metadata": {},
     "output_type": "execute_result"
    }
   ],
   "source": [
    "df_no_ren = pd.DataFrame(datos_electricidad2['included'][1]['attributes']['values'])\n",
    "df_no_ren"
   ]
  },
  {
   "cell_type": "code",
   "execution_count": 43,
   "metadata": {},
   "outputs": [],
   "source": [
    "def renovables_no_renovables_ccaa(lang, category, widget, start_year, end_year, time_trunc):\n",
    "    \n",
    "    cod_comunidades = {'Ceuta': 8744,\n",
    "                    'Melilla': 8745,\n",
    "                    'Andalucía': 4,\n",
    "                    'Aragón': 5,\n",
    "                    'Cantabria': 6,\n",
    "                    'Castilla - La Mancha': 7,\n",
    "                    'Castilla y León': 8,\n",
    "                    'Cataluña': 9,\n",
    "                    'País Vasco': 10,\n",
    "                    'Principado de Asturias': 11,\n",
    "                    'Comunidad de Madrid': 13,\n",
    "                    'Comunidad Foral de Navarra': 14,\n",
    "                    'Comunitat Valenciana': 15,\n",
    "                    'Extremadura': 16,\n",
    "                    'Galicia': 17,\n",
    "                    'Illes Balears': 8743,\n",
    "                    'Canarias': 8742,\n",
    "                    'Región de Murcia': 21,\n",
    "                    'La Rioja': 20}\n",
    "    df_vacio = pd.DataFrame()\n",
    "\n",
    "    for ccaa, geo_id in cod_comunidades.items():\n",
    "\n",
    "        for año in range(start_year, end_year+1):\n",
    "            url = f'https://apidatos.ree.es/{lang}/datos/{category}/{widget}?start_date={año}-01-01T00:00&end_date={año}-12-31T23:59&time_trunc={time_trunc}&geo_trunc=electric_system&geo_limit=ccaa&geo_ids={geo_id}'\n",
    "            response = requests.get(url=url)\n",
    "            \n",
    "            datos_electricidad = response.json()\n",
    "            try:\n",
    "                df_ren = pd.DataFrame(datos_electricidad['included'][0]['attributes']['values'])\n",
    "                df_ren['type'] = datos_electricidad['included'][0]['type']\n",
    "                df_ren['ccaa'] = ccaa\n",
    "                df_vacio = pd.concat([df_vacio, df_ren], axis=0)\n",
    "            \n",
    "                df_no_ren = pd.DataFrame(datos_electricidad['included'][1]['attributes']['values'])\n",
    "                df_no_ren['type'] = datos_electricidad['included'][1]['type']\n",
    "                df_no_ren['ccaa'] = ccaa\n",
    "                df_vacio = pd.concat([df_vacio, df_no_ren], axis=0)\n",
    "            except:\n",
    "                pass\n",
    "                         \n",
    "    return df_vacio"
   ]
  },
  {
   "cell_type": "code",
   "execution_count": 44,
   "metadata": {},
   "outputs": [
    {
     "data": {
      "text/html": [
       "<div>\n",
       "<style scoped>\n",
       "    .dataframe tbody tr th:only-of-type {\n",
       "        vertical-align: middle;\n",
       "    }\n",
       "\n",
       "    .dataframe tbody tr th {\n",
       "        vertical-align: top;\n",
       "    }\n",
       "\n",
       "    .dataframe thead th {\n",
       "        text-align: right;\n",
       "    }\n",
       "</style>\n",
       "<table border=\"1\" class=\"dataframe\">\n",
       "  <thead>\n",
       "    <tr style=\"text-align: right;\">\n",
       "      <th></th>\n",
       "      <th>value</th>\n",
       "      <th>percentage</th>\n",
       "      <th>datetime</th>\n",
       "      <th>type</th>\n",
       "      <th>ccaa</th>\n",
       "    </tr>\n",
       "  </thead>\n",
       "  <tbody>\n",
       "    <tr>\n",
       "      <th>0</th>\n",
       "      <td>202972.893</td>\n",
       "      <td>1.0</td>\n",
       "      <td>2011-01-01T00:00:00.000+01:00</td>\n",
       "      <td>No renovable</td>\n",
       "      <td>Ceuta</td>\n",
       "    </tr>\n",
       "    <tr>\n",
       "      <th>0</th>\n",
       "      <td>212071.911</td>\n",
       "      <td>1.0</td>\n",
       "      <td>2012-01-01T00:00:00.000+01:00</td>\n",
       "      <td>No renovable</td>\n",
       "      <td>Ceuta</td>\n",
       "    </tr>\n",
       "    <tr>\n",
       "      <th>0</th>\n",
       "      <td>201964.935</td>\n",
       "      <td>1.0</td>\n",
       "      <td>2013-01-01T00:00:00.000+01:00</td>\n",
       "      <td>No renovable</td>\n",
       "      <td>Ceuta</td>\n",
       "    </tr>\n",
       "    <tr>\n",
       "      <th>0</th>\n",
       "      <td>212245.157</td>\n",
       "      <td>1.0</td>\n",
       "      <td>2014-01-01T00:00:00.000+01:00</td>\n",
       "      <td>No renovable</td>\n",
       "      <td>Ceuta</td>\n",
       "    </tr>\n",
       "    <tr>\n",
       "      <th>0</th>\n",
       "      <td>204023.090</td>\n",
       "      <td>1.0</td>\n",
       "      <td>2015-01-01T00:00:00.000+01:00</td>\n",
       "      <td>No renovable</td>\n",
       "      <td>Ceuta</td>\n",
       "    </tr>\n",
       "  </tbody>\n",
       "</table>\n",
       "</div>"
      ],
      "text/plain": [
       "        value  percentage                       datetime          type   ccaa\n",
       "0  202972.893         1.0  2011-01-01T00:00:00.000+01:00  No renovable  Ceuta\n",
       "0  212071.911         1.0  2012-01-01T00:00:00.000+01:00  No renovable  Ceuta\n",
       "0  201964.935         1.0  2013-01-01T00:00:00.000+01:00  No renovable  Ceuta\n",
       "0  212245.157         1.0  2014-01-01T00:00:00.000+01:00  No renovable  Ceuta\n",
       "0  204023.090         1.0  2015-01-01T00:00:00.000+01:00  No renovable  Ceuta"
      ]
     },
     "execution_count": 44,
     "metadata": {},
     "output_type": "execute_result"
    }
   ],
   "source": [
    "df_ren_no_ren_ccaa = renovables_no_renovables_ccaa('es', 'generacion', 'evolucion-renovable-no-renovable', 2011, 2022, 'year')\n",
    "df_ren_no_ren_ccaa.head()"
   ]
  },
  {
   "cell_type": "code",
   "execution_count": 46,
   "metadata": {},
   "outputs": [
    {
     "data": {
      "text/html": [
       "<div>\n",
       "<style scoped>\n",
       "    .dataframe tbody tr th:only-of-type {\n",
       "        vertical-align: middle;\n",
       "    }\n",
       "\n",
       "    .dataframe tbody tr th {\n",
       "        vertical-align: top;\n",
       "    }\n",
       "\n",
       "    .dataframe thead th {\n",
       "        text-align: right;\n",
       "    }\n",
       "</style>\n",
       "<table border=\"1\" class=\"dataframe\">\n",
       "  <thead>\n",
       "    <tr style=\"text-align: right;\">\n",
       "      <th></th>\n",
       "      <th></th>\n",
       "      <th>value</th>\n",
       "      <th>percentage</th>\n",
       "      <th>datetime</th>\n",
       "    </tr>\n",
       "    <tr>\n",
       "      <th>ccaa</th>\n",
       "      <th>type</th>\n",
       "      <th></th>\n",
       "      <th></th>\n",
       "      <th></th>\n",
       "    </tr>\n",
       "  </thead>\n",
       "  <tbody>\n",
       "    <tr>\n",
       "      <th rowspan=\"2\" valign=\"top\">Andalucía</th>\n",
       "      <th>No renovable</th>\n",
       "      <td>12</td>\n",
       "      <td>12</td>\n",
       "      <td>12</td>\n",
       "    </tr>\n",
       "    <tr>\n",
       "      <th>Renovable</th>\n",
       "      <td>12</td>\n",
       "      <td>12</td>\n",
       "      <td>12</td>\n",
       "    </tr>\n",
       "    <tr>\n",
       "      <th rowspan=\"2\" valign=\"top\">Aragón</th>\n",
       "      <th>No renovable</th>\n",
       "      <td>12</td>\n",
       "      <td>12</td>\n",
       "      <td>12</td>\n",
       "    </tr>\n",
       "    <tr>\n",
       "      <th>Renovable</th>\n",
       "      <td>12</td>\n",
       "      <td>12</td>\n",
       "      <td>12</td>\n",
       "    </tr>\n",
       "    <tr>\n",
       "      <th rowspan=\"2\" valign=\"top\">Canarias</th>\n",
       "      <th>No renovable</th>\n",
       "      <td>12</td>\n",
       "      <td>12</td>\n",
       "      <td>12</td>\n",
       "    </tr>\n",
       "    <tr>\n",
       "      <th>Renovable</th>\n",
       "      <td>12</td>\n",
       "      <td>12</td>\n",
       "      <td>12</td>\n",
       "    </tr>\n",
       "    <tr>\n",
       "      <th rowspan=\"2\" valign=\"top\">Cantabria</th>\n",
       "      <th>No renovable</th>\n",
       "      <td>12</td>\n",
       "      <td>12</td>\n",
       "      <td>12</td>\n",
       "    </tr>\n",
       "    <tr>\n",
       "      <th>Renovable</th>\n",
       "      <td>12</td>\n",
       "      <td>12</td>\n",
       "      <td>12</td>\n",
       "    </tr>\n",
       "    <tr>\n",
       "      <th rowspan=\"2\" valign=\"top\">Castilla - La Mancha</th>\n",
       "      <th>No renovable</th>\n",
       "      <td>12</td>\n",
       "      <td>12</td>\n",
       "      <td>12</td>\n",
       "    </tr>\n",
       "    <tr>\n",
       "      <th>Renovable</th>\n",
       "      <td>12</td>\n",
       "      <td>12</td>\n",
       "      <td>12</td>\n",
       "    </tr>\n",
       "    <tr>\n",
       "      <th rowspan=\"2\" valign=\"top\">Castilla y León</th>\n",
       "      <th>No renovable</th>\n",
       "      <td>12</td>\n",
       "      <td>12</td>\n",
       "      <td>12</td>\n",
       "    </tr>\n",
       "    <tr>\n",
       "      <th>Renovable</th>\n",
       "      <td>12</td>\n",
       "      <td>12</td>\n",
       "      <td>12</td>\n",
       "    </tr>\n",
       "    <tr>\n",
       "      <th rowspan=\"2\" valign=\"top\">Cataluña</th>\n",
       "      <th>No renovable</th>\n",
       "      <td>12</td>\n",
       "      <td>12</td>\n",
       "      <td>12</td>\n",
       "    </tr>\n",
       "    <tr>\n",
       "      <th>Renovable</th>\n",
       "      <td>12</td>\n",
       "      <td>12</td>\n",
       "      <td>12</td>\n",
       "    </tr>\n",
       "    <tr>\n",
       "      <th>Ceuta</th>\n",
       "      <th>No renovable</th>\n",
       "      <td>12</td>\n",
       "      <td>12</td>\n",
       "      <td>12</td>\n",
       "    </tr>\n",
       "    <tr>\n",
       "      <th rowspan=\"2\" valign=\"top\">Comunidad Foral de Navarra</th>\n",
       "      <th>No renovable</th>\n",
       "      <td>12</td>\n",
       "      <td>12</td>\n",
       "      <td>12</td>\n",
       "    </tr>\n",
       "    <tr>\n",
       "      <th>Renovable</th>\n",
       "      <td>12</td>\n",
       "      <td>12</td>\n",
       "      <td>12</td>\n",
       "    </tr>\n",
       "    <tr>\n",
       "      <th rowspan=\"2\" valign=\"top\">Comunidad de Madrid</th>\n",
       "      <th>No renovable</th>\n",
       "      <td>12</td>\n",
       "      <td>12</td>\n",
       "      <td>12</td>\n",
       "    </tr>\n",
       "    <tr>\n",
       "      <th>Renovable</th>\n",
       "      <td>12</td>\n",
       "      <td>12</td>\n",
       "      <td>12</td>\n",
       "    </tr>\n",
       "    <tr>\n",
       "      <th rowspan=\"2\" valign=\"top\">Comunitat Valenciana</th>\n",
       "      <th>No renovable</th>\n",
       "      <td>12</td>\n",
       "      <td>12</td>\n",
       "      <td>12</td>\n",
       "    </tr>\n",
       "    <tr>\n",
       "      <th>Renovable</th>\n",
       "      <td>12</td>\n",
       "      <td>12</td>\n",
       "      <td>12</td>\n",
       "    </tr>\n",
       "    <tr>\n",
       "      <th rowspan=\"2\" valign=\"top\">Extremadura</th>\n",
       "      <th>No renovable</th>\n",
       "      <td>12</td>\n",
       "      <td>12</td>\n",
       "      <td>12</td>\n",
       "    </tr>\n",
       "    <tr>\n",
       "      <th>Renovable</th>\n",
       "      <td>12</td>\n",
       "      <td>12</td>\n",
       "      <td>12</td>\n",
       "    </tr>\n",
       "    <tr>\n",
       "      <th rowspan=\"2\" valign=\"top\">Galicia</th>\n",
       "      <th>No renovable</th>\n",
       "      <td>12</td>\n",
       "      <td>12</td>\n",
       "      <td>12</td>\n",
       "    </tr>\n",
       "    <tr>\n",
       "      <th>Renovable</th>\n",
       "      <td>12</td>\n",
       "      <td>12</td>\n",
       "      <td>12</td>\n",
       "    </tr>\n",
       "    <tr>\n",
       "      <th rowspan=\"2\" valign=\"top\">Illes Balears</th>\n",
       "      <th>No renovable</th>\n",
       "      <td>12</td>\n",
       "      <td>12</td>\n",
       "      <td>12</td>\n",
       "    </tr>\n",
       "    <tr>\n",
       "      <th>Renovable</th>\n",
       "      <td>12</td>\n",
       "      <td>12</td>\n",
       "      <td>12</td>\n",
       "    </tr>\n",
       "    <tr>\n",
       "      <th rowspan=\"2\" valign=\"top\">La Rioja</th>\n",
       "      <th>No renovable</th>\n",
       "      <td>12</td>\n",
       "      <td>12</td>\n",
       "      <td>12</td>\n",
       "    </tr>\n",
       "    <tr>\n",
       "      <th>Renovable</th>\n",
       "      <td>12</td>\n",
       "      <td>12</td>\n",
       "      <td>12</td>\n",
       "    </tr>\n",
       "    <tr>\n",
       "      <th rowspan=\"2\" valign=\"top\">Melilla</th>\n",
       "      <th>No renovable</th>\n",
       "      <td>12</td>\n",
       "      <td>12</td>\n",
       "      <td>12</td>\n",
       "    </tr>\n",
       "    <tr>\n",
       "      <th>Renovable</th>\n",
       "      <td>12</td>\n",
       "      <td>12</td>\n",
       "      <td>12</td>\n",
       "    </tr>\n",
       "    <tr>\n",
       "      <th rowspan=\"2\" valign=\"top\">País Vasco</th>\n",
       "      <th>No renovable</th>\n",
       "      <td>12</td>\n",
       "      <td>12</td>\n",
       "      <td>12</td>\n",
       "    </tr>\n",
       "    <tr>\n",
       "      <th>Renovable</th>\n",
       "      <td>12</td>\n",
       "      <td>12</td>\n",
       "      <td>12</td>\n",
       "    </tr>\n",
       "    <tr>\n",
       "      <th rowspan=\"2\" valign=\"top\">Principado de Asturias</th>\n",
       "      <th>No renovable</th>\n",
       "      <td>12</td>\n",
       "      <td>12</td>\n",
       "      <td>12</td>\n",
       "    </tr>\n",
       "    <tr>\n",
       "      <th>Renovable</th>\n",
       "      <td>12</td>\n",
       "      <td>12</td>\n",
       "      <td>12</td>\n",
       "    </tr>\n",
       "    <tr>\n",
       "      <th rowspan=\"2\" valign=\"top\">Región de Murcia</th>\n",
       "      <th>No renovable</th>\n",
       "      <td>12</td>\n",
       "      <td>12</td>\n",
       "      <td>12</td>\n",
       "    </tr>\n",
       "    <tr>\n",
       "      <th>Renovable</th>\n",
       "      <td>12</td>\n",
       "      <td>12</td>\n",
       "      <td>12</td>\n",
       "    </tr>\n",
       "  </tbody>\n",
       "</table>\n",
       "</div>"
      ],
      "text/plain": [
       "                                         value  percentage  datetime\n",
       "ccaa                       type                                     \n",
       "Andalucía                  No renovable     12          12        12\n",
       "                           Renovable        12          12        12\n",
       "Aragón                     No renovable     12          12        12\n",
       "                           Renovable        12          12        12\n",
       "Canarias                   No renovable     12          12        12\n",
       "                           Renovable        12          12        12\n",
       "Cantabria                  No renovable     12          12        12\n",
       "                           Renovable        12          12        12\n",
       "Castilla - La Mancha       No renovable     12          12        12\n",
       "                           Renovable        12          12        12\n",
       "Castilla y León            No renovable     12          12        12\n",
       "                           Renovable        12          12        12\n",
       "Cataluña                   No renovable     12          12        12\n",
       "                           Renovable        12          12        12\n",
       "Ceuta                      No renovable     12          12        12\n",
       "Comunidad Foral de Navarra No renovable     12          12        12\n",
       "                           Renovable        12          12        12\n",
       "Comunidad de Madrid        No renovable     12          12        12\n",
       "                           Renovable        12          12        12\n",
       "Comunitat Valenciana       No renovable     12          12        12\n",
       "                           Renovable        12          12        12\n",
       "Extremadura                No renovable     12          12        12\n",
       "                           Renovable        12          12        12\n",
       "Galicia                    No renovable     12          12        12\n",
       "                           Renovable        12          12        12\n",
       "Illes Balears              No renovable     12          12        12\n",
       "                           Renovable        12          12        12\n",
       "La Rioja                   No renovable     12          12        12\n",
       "                           Renovable        12          12        12\n",
       "Melilla                    No renovable     12          12        12\n",
       "                           Renovable        12          12        12\n",
       "País Vasco                 No renovable     12          12        12\n",
       "                           Renovable        12          12        12\n",
       "Principado de Asturias     No renovable     12          12        12\n",
       "                           Renovable        12          12        12\n",
       "Región de Murcia           No renovable     12          12        12\n",
       "                           Renovable        12          12        12"
      ]
     },
     "execution_count": 46,
     "metadata": {},
     "output_type": "execute_result"
    }
   ],
   "source": [
    "df_ren_no_ren_ccaa.groupby(['ccaa', 'type']).count() # comprobación"
   ]
  },
  {
   "attachments": {},
   "cell_type": "markdown",
   "metadata": {},
   "source": [
    "3. Guardad los csv ya que mañana los seguiremos usando en los siguientes pairs"
   ]
  },
  {
   "cell_type": "code",
   "execution_count": 19,
   "metadata": {},
   "outputs": [],
   "source": [
    "df_renov_no_renov.to_csv('../datos/renovable_no_renovable_nacional.csv')"
   ]
  },
  {
   "cell_type": "code",
   "execution_count": 47,
   "metadata": {},
   "outputs": [],
   "source": [
    "df_ren_no_ren_ccaa.to_csv('../datos/renovable_no_renovable_ccaa.csv')"
   ]
  }
 ],
 "metadata": {
  "kernelspec": {
   "display_name": "base",
   "language": "python",
   "name": "python3"
  },
  "language_info": {
   "codemirror_mode": {
    "name": "ipython",
    "version": 3
   },
   "file_extension": ".py",
   "mimetype": "text/x-python",
   "name": "python",
   "nbconvert_exporter": "python",
   "pygments_lexer": "ipython3",
   "version": "3.10.9"
  },
  "orig_nbformat": 4
 },
 "nbformat": 4,
 "nbformat_minor": 2
}
