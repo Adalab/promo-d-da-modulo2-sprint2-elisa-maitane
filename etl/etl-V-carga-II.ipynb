{
 "cells": [
  {
   "attachments": {},
   "cell_type": "markdown",
   "metadata": {},
   "source": [
    "# **Ejercicios de pair programming Módulo 2 - Sprint 2**\n",
    "## **ETL V. CArga II - Clases y Funciones BBDD e inseción**\n",
    "---"
   ]
  },
  {
   "attachments": {},
   "cell_type": "markdown",
   "metadata": {},
   "source": [
    "El último paso de una ETL es cargar los datos obtenidos en una BBDD de SQL, la nube etc. En nuestro caso lo haremos en SQL.\n",
    "Igual que en la lección de transformación, el objetivo de esta lección es meter todo el código en un Clase para intentar automatizar nuestro código al máximo!"
   ]
  },
  {
   "cell_type": "code",
   "execution_count": null,
   "metadata": {},
   "outputs": [],
   "source": []
  }
 ],
 "metadata": {
  "language_info": {
   "name": "python"
  },
  "orig_nbformat": 4
 },
 "nbformat": 4,
 "nbformat_minor": 2
}
