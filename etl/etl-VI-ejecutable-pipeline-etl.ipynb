{
 "cells": [
  {
   "attachments": {},
   "cell_type": "markdown",
   "metadata": {},
   "source": [
    "# **Ejercicios de pair programming Módulo 2 - Sprint 2**\n",
    "## **ETL V. CArga II - Clases y Funciones BBDD e inseción**\n",
    "---"
   ]
  },
  {
   "attachments": {},
   "cell_type": "markdown",
   "metadata": {},
   "source": [
    "En la lección de hoy aprenderemos como crear un ejecutable en Python. El objetivo, juntar todo el código creado hasta ahora en un único fichero que nos permita interactuar y se ejecute todo de una vez.   \n",
    "\n",
    "Hasta hoy hemos aprendido como crear cada uno de los pasos de una ETL por separado. Han sido lecciones intensas donde hemos aglomerado muchos de los conocimientos adquiridos hasta hoy. Hoy será sencillo, lo único que haremos será unificar toda la información en un único fichero, un .py que será el ejecutable. Un ejecutable es un fichero que se puede ejecutar de forma independiente desde la terminal y que nos permitirá no tener que ir ejecutando línea a línea el código."
   ]
  },
  {
   "cell_type": "code",
   "execution_count": null,
   "metadata": {},
   "outputs": [],
   "source": []
  }
 ],
 "metadata": {
  "language_info": {
   "name": "python"
  },
  "orig_nbformat": 4
 },
 "nbformat": 4,
 "nbformat_minor": 2
}
