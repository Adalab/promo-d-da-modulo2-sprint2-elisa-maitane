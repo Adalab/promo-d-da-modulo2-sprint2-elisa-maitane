{
 "cells": [
  {
   "attachments": {},
   "cell_type": "markdown",
   "metadata": {},
   "source": [
    "# **Ejercicios de pair programming Módulo 2 - Sprint 2**\n",
    "## **ETL II. Transformación I**\n",
    "---"
   ]
  },
  {
   "cell_type": "code",
   "execution_count": 1,
   "metadata": {},
   "outputs": [],
   "source": [
    "import requests\n",
    "import pandas as pd\n",
    "import numpy as np\n",
    "import os\n",
    "from IPython.core.interactiveshell import InteractiveShell\n",
    "InteractiveShell.ast_node_interactivity = \"all\"\n",
    "\n",
    "if 'etl' not in os.getcwd():\n",
    "    os.chdir('etl')"
   ]
  },
  {
   "attachments": {},
   "cell_type": "markdown",
   "metadata": {},
   "source": [
    "En la lección de hoy aprendimos como transformar nuestros datos para que estén preparados para almacearlos en una BBDD. En este momento tenemos dos fuentes de datos:\n",
    "1. El csv donde tenemos la información censal de cada Comunidad Autónoma tiene algunas columnas que no son redundantes para nuestro análisis, en este csv tendremos que:  \n",
    "    - Eliminar la columna de `Comunidades_y_Ciudades_Autónomas`"
   ]
  },
  {
   "cell_type": "code",
   "execution_count": 2,
   "metadata": {},
   "outputs": [
    {
     "data": {
      "text/html": [
       "<div>\n",
       "<style scoped>\n",
       "    .dataframe tbody tr th:only-of-type {\n",
       "        vertical-align: middle;\n",
       "    }\n",
       "\n",
       "    .dataframe tbody tr th {\n",
       "        vertical-align: top;\n",
       "    }\n",
       "\n",
       "    .dataframe thead th {\n",
       "        text-align: right;\n",
       "    }\n",
       "</style>\n",
       "<table border=\"1\" class=\"dataframe\">\n",
       "  <thead>\n",
       "    <tr style=\"text-align: right;\">\n",
       "      <th></th>\n",
       "      <th>Comunidad</th>\n",
       "      <th>indice</th>\n",
       "      <th>Comunidades_y_Ciudades_Autónomas</th>\n",
       "      <th>Año</th>\n",
       "      <th>Total</th>\n",
       "    </tr>\n",
       "  </thead>\n",
       "  <tbody>\n",
       "    <tr>\n",
       "      <th>0</th>\n",
       "      <td>Ceuta</td>\n",
       "      <td>8744</td>\n",
       "      <td>Ceuta</td>\n",
       "      <td>2022</td>\n",
       "      <td>83.117</td>\n",
       "    </tr>\n",
       "    <tr>\n",
       "      <th>1</th>\n",
       "      <td>Ceuta</td>\n",
       "      <td>8744</td>\n",
       "      <td>Ceuta</td>\n",
       "      <td>2021</td>\n",
       "      <td>83.517</td>\n",
       "    </tr>\n",
       "    <tr>\n",
       "      <th>2</th>\n",
       "      <td>Ceuta</td>\n",
       "      <td>8744</td>\n",
       "      <td>Ceuta</td>\n",
       "      <td>2020</td>\n",
       "      <td>84.202</td>\n",
       "    </tr>\n",
       "    <tr>\n",
       "      <th>3</th>\n",
       "      <td>Ceuta</td>\n",
       "      <td>8744</td>\n",
       "      <td>Ceuta</td>\n",
       "      <td>2019</td>\n",
       "      <td>84.777</td>\n",
       "    </tr>\n",
       "    <tr>\n",
       "      <th>4</th>\n",
       "      <td>Ceuta</td>\n",
       "      <td>8744</td>\n",
       "      <td>Ceuta</td>\n",
       "      <td>2018</td>\n",
       "      <td>85.144</td>\n",
       "    </tr>\n",
       "  </tbody>\n",
       "</table>\n",
       "</div>"
      ],
      "text/plain": [
       "  Comunidad  indice Comunidades_y_Ciudades_Autónomas   Año   Total\n",
       "0     Ceuta    8744                            Ceuta  2022  83.117\n",
       "1     Ceuta    8744                            Ceuta  2021  83.517\n",
       "2     Ceuta    8744                            Ceuta  2020  84.202\n",
       "3     Ceuta    8744                            Ceuta  2019  84.777\n",
       "4     Ceuta    8744                            Ceuta  2018  85.144"
      ]
     },
     "execution_count": 2,
     "metadata": {},
     "output_type": "execute_result"
    }
   ],
   "source": [
    "df_pobl = pd.read_csv('../datos/poblacion_comunidades.csv', index_col=0)\n",
    "df_pobl.head()"
   ]
  },
  {
   "cell_type": "code",
   "execution_count": 3,
   "metadata": {},
   "outputs": [
    {
     "data": {
      "text/html": [
       "<div>\n",
       "<style scoped>\n",
       "    .dataframe tbody tr th:only-of-type {\n",
       "        vertical-align: middle;\n",
       "    }\n",
       "\n",
       "    .dataframe tbody tr th {\n",
       "        vertical-align: top;\n",
       "    }\n",
       "\n",
       "    .dataframe thead th {\n",
       "        text-align: right;\n",
       "    }\n",
       "</style>\n",
       "<table border=\"1\" class=\"dataframe\">\n",
       "  <thead>\n",
       "    <tr style=\"text-align: right;\">\n",
       "      <th></th>\n",
       "      <th>Comunidad</th>\n",
       "      <th>indice</th>\n",
       "      <th>Año</th>\n",
       "      <th>Total</th>\n",
       "    </tr>\n",
       "  </thead>\n",
       "  <tbody>\n",
       "    <tr>\n",
       "      <th>0</th>\n",
       "      <td>Ceuta</td>\n",
       "      <td>8744</td>\n",
       "      <td>2022</td>\n",
       "      <td>83.117</td>\n",
       "    </tr>\n",
       "    <tr>\n",
       "      <th>1</th>\n",
       "      <td>Ceuta</td>\n",
       "      <td>8744</td>\n",
       "      <td>2021</td>\n",
       "      <td>83.517</td>\n",
       "    </tr>\n",
       "    <tr>\n",
       "      <th>2</th>\n",
       "      <td>Ceuta</td>\n",
       "      <td>8744</td>\n",
       "      <td>2020</td>\n",
       "      <td>84.202</td>\n",
       "    </tr>\n",
       "    <tr>\n",
       "      <th>3</th>\n",
       "      <td>Ceuta</td>\n",
       "      <td>8744</td>\n",
       "      <td>2019</td>\n",
       "      <td>84.777</td>\n",
       "    </tr>\n",
       "    <tr>\n",
       "      <th>4</th>\n",
       "      <td>Ceuta</td>\n",
       "      <td>8744</td>\n",
       "      <td>2018</td>\n",
       "      <td>85.144</td>\n",
       "    </tr>\n",
       "  </tbody>\n",
       "</table>\n",
       "</div>"
      ],
      "text/plain": [
       "  Comunidad  indice   Año   Total\n",
       "0     Ceuta    8744  2022  83.117\n",
       "1     Ceuta    8744  2021  83.517\n",
       "2     Ceuta    8744  2020  84.202\n",
       "3     Ceuta    8744  2019  84.777\n",
       "4     Ceuta    8744  2018  85.144"
      ]
     },
     "execution_count": 3,
     "metadata": {},
     "output_type": "execute_result"
    }
   ],
   "source": [
    "df_pobl.drop(columns='Comunidades_y_Ciudades_Autónomas', inplace=True)\n",
    "df_pobl.head()"
   ]
  },
  {
   "attachments": {},
   "cell_type": "markdown",
   "metadata": {},
   "source": [
    "2. En el csv con la información de generación de energías renovables y no renovables a nivel nacional deberéis:  \n",
    "- Para las columnas `value` y `percentage`, redondear los decimales de los valores a 2.  \n",
    "- La columna datetime es de tipo string, pero esto a nosotras no nos interesa. Además, en esta columna tiene tanto la fecha como la hora, pero en realidad la hora no nos esta aportando nada de información, es por esto que:  \n",
    "    - Deberéis crear una columna nueva donde solo tengamos la información de la fecha en formato AÑO / MES / DIA.  \n",
    "    - Una vez creada la columna anterior, convertirla a datetime.  "
   ]
  },
  {
   "cell_type": "code",
   "execution_count": 4,
   "metadata": {},
   "outputs": [
    {
     "data": {
      "text/html": [
       "<div>\n",
       "<style scoped>\n",
       "    .dataframe tbody tr th:only-of-type {\n",
       "        vertical-align: middle;\n",
       "    }\n",
       "\n",
       "    .dataframe tbody tr th {\n",
       "        vertical-align: top;\n",
       "    }\n",
       "\n",
       "    .dataframe thead th {\n",
       "        text-align: right;\n",
       "    }\n",
       "</style>\n",
       "<table border=\"1\" class=\"dataframe\">\n",
       "  <thead>\n",
       "    <tr style=\"text-align: right;\">\n",
       "      <th></th>\n",
       "      <th>value</th>\n",
       "      <th>percentage</th>\n",
       "      <th>datetime</th>\n",
       "      <th>type</th>\n",
       "    </tr>\n",
       "  </thead>\n",
       "  <tbody>\n",
       "    <tr>\n",
       "      <th>0</th>\n",
       "      <td>8.666705e+07</td>\n",
       "      <td>0.310241</td>\n",
       "      <td>2011-01-01T00:00:00.000+01:00</td>\n",
       "      <td>Renovable</td>\n",
       "    </tr>\n",
       "    <tr>\n",
       "      <th>0</th>\n",
       "      <td>1.926868e+08</td>\n",
       "      <td>0.689759</td>\n",
       "      <td>2011-01-01T00:00:00.000+01:00</td>\n",
       "      <td>No renovable</td>\n",
       "    </tr>\n",
       "    <tr>\n",
       "      <th>0</th>\n",
       "      <td>8.533872e+07</td>\n",
       "      <td>0.301424</td>\n",
       "      <td>2012-01-01T00:00:00.000+01:00</td>\n",
       "      <td>Renovable</td>\n",
       "    </tr>\n",
       "    <tr>\n",
       "      <th>0</th>\n",
       "      <td>1.977799e+08</td>\n",
       "      <td>0.698576</td>\n",
       "      <td>2012-01-01T00:00:00.000+01:00</td>\n",
       "      <td>No renovable</td>\n",
       "    </tr>\n",
       "    <tr>\n",
       "      <th>0</th>\n",
       "      <td>1.097577e+08</td>\n",
       "      <td>0.401622</td>\n",
       "      <td>2013-01-01T00:00:00.000+01:00</td>\n",
       "      <td>Renovable</td>\n",
       "    </tr>\n",
       "  </tbody>\n",
       "</table>\n",
       "</div>"
      ],
      "text/plain": [
       "          value  percentage                       datetime          type\n",
       "0  8.666705e+07    0.310241  2011-01-01T00:00:00.000+01:00     Renovable\n",
       "0  1.926868e+08    0.689759  2011-01-01T00:00:00.000+01:00  No renovable\n",
       "0  8.533872e+07    0.301424  2012-01-01T00:00:00.000+01:00     Renovable\n",
       "0  1.977799e+08    0.698576  2012-01-01T00:00:00.000+01:00  No renovable\n",
       "0  1.097577e+08    0.401622  2013-01-01T00:00:00.000+01:00     Renovable"
      ]
     },
     "execution_count": 4,
     "metadata": {},
     "output_type": "execute_result"
    }
   ],
   "source": [
    "df_nacional = pd.read_csv('../datos/renovable_no_renovable_nacional.csv', index_col=0)\n",
    "df_nacional.head()"
   ]
  },
  {
   "cell_type": "code",
   "execution_count": 5,
   "metadata": {},
   "outputs": [
    {
     "data": {
      "text/plain": [
       "value         float64\n",
       "percentage    float64\n",
       "datetime       object\n",
       "type           object\n",
       "dtype: object"
      ]
     },
     "execution_count": 5,
     "metadata": {},
     "output_type": "execute_result"
    }
   ],
   "source": [
    "df_nacional.dtypes"
   ]
  },
  {
   "cell_type": "code",
   "execution_count": 6,
   "metadata": {},
   "outputs": [
    {
     "data": {
      "text/html": [
       "<div>\n",
       "<style scoped>\n",
       "    .dataframe tbody tr th:only-of-type {\n",
       "        vertical-align: middle;\n",
       "    }\n",
       "\n",
       "    .dataframe tbody tr th {\n",
       "        vertical-align: top;\n",
       "    }\n",
       "\n",
       "    .dataframe thead th {\n",
       "        text-align: right;\n",
       "    }\n",
       "</style>\n",
       "<table border=\"1\" class=\"dataframe\">\n",
       "  <thead>\n",
       "    <tr style=\"text-align: right;\">\n",
       "      <th></th>\n",
       "      <th>value</th>\n",
       "      <th>percentage</th>\n",
       "      <th>datetime</th>\n",
       "      <th>type</th>\n",
       "    </tr>\n",
       "  </thead>\n",
       "  <tbody>\n",
       "    <tr>\n",
       "      <th>0</th>\n",
       "      <td>8.666705e+07</td>\n",
       "      <td>0.31</td>\n",
       "      <td>2011-01-01T00:00:00.000+01:00</td>\n",
       "      <td>Renovable</td>\n",
       "    </tr>\n",
       "    <tr>\n",
       "      <th>0</th>\n",
       "      <td>1.926868e+08</td>\n",
       "      <td>0.69</td>\n",
       "      <td>2011-01-01T00:00:00.000+01:00</td>\n",
       "      <td>No renovable</td>\n",
       "    </tr>\n",
       "    <tr>\n",
       "      <th>0</th>\n",
       "      <td>8.533872e+07</td>\n",
       "      <td>0.30</td>\n",
       "      <td>2012-01-01T00:00:00.000+01:00</td>\n",
       "      <td>Renovable</td>\n",
       "    </tr>\n",
       "    <tr>\n",
       "      <th>0</th>\n",
       "      <td>1.977799e+08</td>\n",
       "      <td>0.70</td>\n",
       "      <td>2012-01-01T00:00:00.000+01:00</td>\n",
       "      <td>No renovable</td>\n",
       "    </tr>\n",
       "    <tr>\n",
       "      <th>0</th>\n",
       "      <td>1.097577e+08</td>\n",
       "      <td>0.40</td>\n",
       "      <td>2013-01-01T00:00:00.000+01:00</td>\n",
       "      <td>Renovable</td>\n",
       "    </tr>\n",
       "  </tbody>\n",
       "</table>\n",
       "</div>"
      ],
      "text/plain": [
       "          value  percentage                       datetime          type\n",
       "0  8.666705e+07        0.31  2011-01-01T00:00:00.000+01:00     Renovable\n",
       "0  1.926868e+08        0.69  2011-01-01T00:00:00.000+01:00  No renovable\n",
       "0  8.533872e+07        0.30  2012-01-01T00:00:00.000+01:00     Renovable\n",
       "0  1.977799e+08        0.70  2012-01-01T00:00:00.000+01:00  No renovable\n",
       "0  1.097577e+08        0.40  2013-01-01T00:00:00.000+01:00     Renovable"
      ]
     },
     "execution_count": 6,
     "metadata": {},
     "output_type": "execute_result"
    }
   ],
   "source": [
    "df_nacional[['percentage', 'value']] = df_nacional[['percentage', 'value']].apply(lambda dato: round(dato, 2))\n",
    "df_nacional.head()"
   ]
  },
  {
   "cell_type": "code",
   "execution_count": 15,
   "metadata": {},
   "outputs": [
    {
     "data": {
      "text/html": [
       "<div>\n",
       "<style scoped>\n",
       "    .dataframe tbody tr th:only-of-type {\n",
       "        vertical-align: middle;\n",
       "    }\n",
       "\n",
       "    .dataframe tbody tr th {\n",
       "        vertical-align: top;\n",
       "    }\n",
       "\n",
       "    .dataframe thead th {\n",
       "        text-align: right;\n",
       "    }\n",
       "</style>\n",
       "<table border=\"1\" class=\"dataframe\">\n",
       "  <thead>\n",
       "    <tr style=\"text-align: right;\">\n",
       "      <th></th>\n",
       "      <th>value</th>\n",
       "      <th>percentage</th>\n",
       "      <th>datetime</th>\n",
       "      <th>type</th>\n",
       "      <th>date</th>\n",
       "    </tr>\n",
       "  </thead>\n",
       "  <tbody>\n",
       "    <tr>\n",
       "      <th>0</th>\n",
       "      <td>8.666705e+07</td>\n",
       "      <td>0.31</td>\n",
       "      <td>2011-01-01T00:00:00.000+01:00</td>\n",
       "      <td>Renovable</td>\n",
       "      <td>2011-01-01</td>\n",
       "    </tr>\n",
       "    <tr>\n",
       "      <th>0</th>\n",
       "      <td>1.926868e+08</td>\n",
       "      <td>0.69</td>\n",
       "      <td>2011-01-01T00:00:00.000+01:00</td>\n",
       "      <td>No renovable</td>\n",
       "      <td>2011-01-01</td>\n",
       "    </tr>\n",
       "    <tr>\n",
       "      <th>0</th>\n",
       "      <td>8.533872e+07</td>\n",
       "      <td>0.30</td>\n",
       "      <td>2012-01-01T00:00:00.000+01:00</td>\n",
       "      <td>Renovable</td>\n",
       "      <td>2012-01-01</td>\n",
       "    </tr>\n",
       "    <tr>\n",
       "      <th>0</th>\n",
       "      <td>1.977799e+08</td>\n",
       "      <td>0.70</td>\n",
       "      <td>2012-01-01T00:00:00.000+01:00</td>\n",
       "      <td>No renovable</td>\n",
       "      <td>2012-01-01</td>\n",
       "    </tr>\n",
       "    <tr>\n",
       "      <th>0</th>\n",
       "      <td>1.097577e+08</td>\n",
       "      <td>0.40</td>\n",
       "      <td>2013-01-01T00:00:00.000+01:00</td>\n",
       "      <td>Renovable</td>\n",
       "      <td>2013-01-01</td>\n",
       "    </tr>\n",
       "  </tbody>\n",
       "</table>\n",
       "</div>"
      ],
      "text/plain": [
       "          value  percentage                       datetime          type  \\\n",
       "0  8.666705e+07        0.31  2011-01-01T00:00:00.000+01:00     Renovable   \n",
       "0  1.926868e+08        0.69  2011-01-01T00:00:00.000+01:00  No renovable   \n",
       "0  8.533872e+07        0.30  2012-01-01T00:00:00.000+01:00     Renovable   \n",
       "0  1.977799e+08        0.70  2012-01-01T00:00:00.000+01:00  No renovable   \n",
       "0  1.097577e+08        0.40  2013-01-01T00:00:00.000+01:00     Renovable   \n",
       "\n",
       "         date  \n",
       "0  2011-01-01  \n",
       "0  2011-01-01  \n",
       "0  2012-01-01  \n",
       "0  2012-01-01  \n",
       "0  2013-01-01  "
      ]
     },
     "execution_count": 15,
     "metadata": {},
     "output_type": "execute_result"
    }
   ],
   "source": [
    "df_nacional['date'] = df_nacional['datetime'].str.split('T', expand=True).get(0)\n",
    "df_nacional.head()"
   ]
  },
  {
   "cell_type": "code",
   "execution_count": 16,
   "metadata": {},
   "outputs": [
    {
     "data": {
      "text/plain": [
       "value         float64\n",
       "percentage    float64\n",
       "datetime       object\n",
       "type           object\n",
       "date           object\n",
       "dtype: object"
      ]
     },
     "execution_count": 16,
     "metadata": {},
     "output_type": "execute_result"
    }
   ],
   "source": [
    "df_nacional.dtypes"
   ]
  },
  {
   "cell_type": "code",
   "execution_count": 17,
   "metadata": {},
   "outputs": [
    {
     "data": {
      "text/plain": [
       "value                float64\n",
       "percentage           float64\n",
       "datetime              object\n",
       "type                  object\n",
       "date          datetime64[ns]\n",
       "dtype: object"
      ]
     },
     "execution_count": 17,
     "metadata": {},
     "output_type": "execute_result"
    }
   ],
   "source": [
    "df_nacional['date'] = pd.to_datetime(df_nacional['date'])\n",
    "df_nacional.dtypes"
   ]
  },
  {
   "cell_type": "markdown",
   "metadata": {},
   "source": [
    "3. En el csv con la información de generación de energías renovables y no renovables a nivel de comunidad autónoma deberéis aplicar los mismos cambios que aplicamos en el ejercicio anterior."
   ]
  },
  {
   "cell_type": "code",
   "execution_count": 18,
   "metadata": {},
   "outputs": [
    {
     "data": {
      "text/html": [
       "<div>\n",
       "<style scoped>\n",
       "    .dataframe tbody tr th:only-of-type {\n",
       "        vertical-align: middle;\n",
       "    }\n",
       "\n",
       "    .dataframe tbody tr th {\n",
       "        vertical-align: top;\n",
       "    }\n",
       "\n",
       "    .dataframe thead th {\n",
       "        text-align: right;\n",
       "    }\n",
       "</style>\n",
       "<table border=\"1\" class=\"dataframe\">\n",
       "  <thead>\n",
       "    <tr style=\"text-align: right;\">\n",
       "      <th></th>\n",
       "      <th>value</th>\n",
       "      <th>percentage</th>\n",
       "      <th>datetime</th>\n",
       "      <th>type</th>\n",
       "      <th>ccaa</th>\n",
       "    </tr>\n",
       "  </thead>\n",
       "  <tbody>\n",
       "    <tr>\n",
       "      <th>0</th>\n",
       "      <td>202972.893</td>\n",
       "      <td>1.0</td>\n",
       "      <td>2011-01-01T00:00:00.000+01:00</td>\n",
       "      <td>No renovable</td>\n",
       "      <td>Ceuta</td>\n",
       "    </tr>\n",
       "    <tr>\n",
       "      <th>0</th>\n",
       "      <td>212071.911</td>\n",
       "      <td>1.0</td>\n",
       "      <td>2012-01-01T00:00:00.000+01:00</td>\n",
       "      <td>No renovable</td>\n",
       "      <td>Ceuta</td>\n",
       "    </tr>\n",
       "    <tr>\n",
       "      <th>0</th>\n",
       "      <td>201964.935</td>\n",
       "      <td>1.0</td>\n",
       "      <td>2013-01-01T00:00:00.000+01:00</td>\n",
       "      <td>No renovable</td>\n",
       "      <td>Ceuta</td>\n",
       "    </tr>\n",
       "    <tr>\n",
       "      <th>0</th>\n",
       "      <td>212245.157</td>\n",
       "      <td>1.0</td>\n",
       "      <td>2014-01-01T00:00:00.000+01:00</td>\n",
       "      <td>No renovable</td>\n",
       "      <td>Ceuta</td>\n",
       "    </tr>\n",
       "    <tr>\n",
       "      <th>0</th>\n",
       "      <td>204023.090</td>\n",
       "      <td>1.0</td>\n",
       "      <td>2015-01-01T00:00:00.000+01:00</td>\n",
       "      <td>No renovable</td>\n",
       "      <td>Ceuta</td>\n",
       "    </tr>\n",
       "  </tbody>\n",
       "</table>\n",
       "</div>"
      ],
      "text/plain": [
       "        value  percentage                       datetime          type   ccaa\n",
       "0  202972.893         1.0  2011-01-01T00:00:00.000+01:00  No renovable  Ceuta\n",
       "0  212071.911         1.0  2012-01-01T00:00:00.000+01:00  No renovable  Ceuta\n",
       "0  201964.935         1.0  2013-01-01T00:00:00.000+01:00  No renovable  Ceuta\n",
       "0  212245.157         1.0  2014-01-01T00:00:00.000+01:00  No renovable  Ceuta\n",
       "0  204023.090         1.0  2015-01-01T00:00:00.000+01:00  No renovable  Ceuta"
      ]
     },
     "execution_count": 18,
     "metadata": {},
     "output_type": "execute_result"
    }
   ],
   "source": [
    "df_ccaa = pd.read_csv('../datos/renovable_no_renovable_ccaa.csv', index_col=0)\n",
    "df_ccaa.head()"
   ]
  },
  {
   "cell_type": "code",
   "execution_count": 19,
   "metadata": {},
   "outputs": [
    {
     "data": {
      "text/plain": [
       "value         float64\n",
       "percentage    float64\n",
       "datetime       object\n",
       "type           object\n",
       "ccaa           object\n",
       "dtype: object"
      ]
     },
     "execution_count": 19,
     "metadata": {},
     "output_type": "execute_result"
    }
   ],
   "source": [
    "df_ccaa.dtypes"
   ]
  },
  {
   "cell_type": "code",
   "execution_count": 22,
   "metadata": {},
   "outputs": [
    {
     "data": {
      "text/html": [
       "<div>\n",
       "<style scoped>\n",
       "    .dataframe tbody tr th:only-of-type {\n",
       "        vertical-align: middle;\n",
       "    }\n",
       "\n",
       "    .dataframe tbody tr th {\n",
       "        vertical-align: top;\n",
       "    }\n",
       "\n",
       "    .dataframe thead th {\n",
       "        text-align: right;\n",
       "    }\n",
       "</style>\n",
       "<table border=\"1\" class=\"dataframe\">\n",
       "  <thead>\n",
       "    <tr style=\"text-align: right;\">\n",
       "      <th></th>\n",
       "      <th>value</th>\n",
       "      <th>percentage</th>\n",
       "      <th>datetime</th>\n",
       "      <th>type</th>\n",
       "      <th>ccaa</th>\n",
       "    </tr>\n",
       "  </thead>\n",
       "  <tbody>\n",
       "    <tr>\n",
       "      <th>0</th>\n",
       "      <td>202972.89</td>\n",
       "      <td>1.0</td>\n",
       "      <td>2011-01-01T00:00:00.000+01:00</td>\n",
       "      <td>No renovable</td>\n",
       "      <td>Ceuta</td>\n",
       "    </tr>\n",
       "    <tr>\n",
       "      <th>0</th>\n",
       "      <td>212071.91</td>\n",
       "      <td>1.0</td>\n",
       "      <td>2012-01-01T00:00:00.000+01:00</td>\n",
       "      <td>No renovable</td>\n",
       "      <td>Ceuta</td>\n",
       "    </tr>\n",
       "    <tr>\n",
       "      <th>0</th>\n",
       "      <td>201964.94</td>\n",
       "      <td>1.0</td>\n",
       "      <td>2013-01-01T00:00:00.000+01:00</td>\n",
       "      <td>No renovable</td>\n",
       "      <td>Ceuta</td>\n",
       "    </tr>\n",
       "    <tr>\n",
       "      <th>0</th>\n",
       "      <td>212245.16</td>\n",
       "      <td>1.0</td>\n",
       "      <td>2014-01-01T00:00:00.000+01:00</td>\n",
       "      <td>No renovable</td>\n",
       "      <td>Ceuta</td>\n",
       "    </tr>\n",
       "    <tr>\n",
       "      <th>0</th>\n",
       "      <td>204023.09</td>\n",
       "      <td>1.0</td>\n",
       "      <td>2015-01-01T00:00:00.000+01:00</td>\n",
       "      <td>No renovable</td>\n",
       "      <td>Ceuta</td>\n",
       "    </tr>\n",
       "  </tbody>\n",
       "</table>\n",
       "</div>"
      ],
      "text/plain": [
       "       value  percentage                       datetime          type   ccaa\n",
       "0  202972.89         1.0  2011-01-01T00:00:00.000+01:00  No renovable  Ceuta\n",
       "0  212071.91         1.0  2012-01-01T00:00:00.000+01:00  No renovable  Ceuta\n",
       "0  201964.94         1.0  2013-01-01T00:00:00.000+01:00  No renovable  Ceuta\n",
       "0  212245.16         1.0  2014-01-01T00:00:00.000+01:00  No renovable  Ceuta\n",
       "0  204023.09         1.0  2015-01-01T00:00:00.000+01:00  No renovable  Ceuta"
      ]
     },
     "execution_count": 22,
     "metadata": {},
     "output_type": "execute_result"
    }
   ],
   "source": [
    "df_ccaa[['percentage', 'value']] = df_ccaa[['percentage', 'value']].apply(lambda dato: round(dato, 2))\n",
    "df_ccaa.head()"
   ]
  },
  {
   "cell_type": "code",
   "execution_count": 23,
   "metadata": {},
   "outputs": [
    {
     "data": {
      "text/html": [
       "<div>\n",
       "<style scoped>\n",
       "    .dataframe tbody tr th:only-of-type {\n",
       "        vertical-align: middle;\n",
       "    }\n",
       "\n",
       "    .dataframe tbody tr th {\n",
       "        vertical-align: top;\n",
       "    }\n",
       "\n",
       "    .dataframe thead th {\n",
       "        text-align: right;\n",
       "    }\n",
       "</style>\n",
       "<table border=\"1\" class=\"dataframe\">\n",
       "  <thead>\n",
       "    <tr style=\"text-align: right;\">\n",
       "      <th></th>\n",
       "      <th>value</th>\n",
       "      <th>percentage</th>\n",
       "      <th>datetime</th>\n",
       "      <th>type</th>\n",
       "      <th>ccaa</th>\n",
       "      <th>date</th>\n",
       "    </tr>\n",
       "  </thead>\n",
       "  <tbody>\n",
       "    <tr>\n",
       "      <th>0</th>\n",
       "      <td>202972.89</td>\n",
       "      <td>1.0</td>\n",
       "      <td>2011-01-01T00:00:00.000+01:00</td>\n",
       "      <td>No renovable</td>\n",
       "      <td>Ceuta</td>\n",
       "      <td>2011-01-01</td>\n",
       "    </tr>\n",
       "    <tr>\n",
       "      <th>0</th>\n",
       "      <td>212071.91</td>\n",
       "      <td>1.0</td>\n",
       "      <td>2012-01-01T00:00:00.000+01:00</td>\n",
       "      <td>No renovable</td>\n",
       "      <td>Ceuta</td>\n",
       "      <td>2012-01-01</td>\n",
       "    </tr>\n",
       "    <tr>\n",
       "      <th>0</th>\n",
       "      <td>201964.94</td>\n",
       "      <td>1.0</td>\n",
       "      <td>2013-01-01T00:00:00.000+01:00</td>\n",
       "      <td>No renovable</td>\n",
       "      <td>Ceuta</td>\n",
       "      <td>2013-01-01</td>\n",
       "    </tr>\n",
       "    <tr>\n",
       "      <th>0</th>\n",
       "      <td>212245.16</td>\n",
       "      <td>1.0</td>\n",
       "      <td>2014-01-01T00:00:00.000+01:00</td>\n",
       "      <td>No renovable</td>\n",
       "      <td>Ceuta</td>\n",
       "      <td>2014-01-01</td>\n",
       "    </tr>\n",
       "    <tr>\n",
       "      <th>0</th>\n",
       "      <td>204023.09</td>\n",
       "      <td>1.0</td>\n",
       "      <td>2015-01-01T00:00:00.000+01:00</td>\n",
       "      <td>No renovable</td>\n",
       "      <td>Ceuta</td>\n",
       "      <td>2015-01-01</td>\n",
       "    </tr>\n",
       "  </tbody>\n",
       "</table>\n",
       "</div>"
      ],
      "text/plain": [
       "       value  percentage                       datetime          type   ccaa  \\\n",
       "0  202972.89         1.0  2011-01-01T00:00:00.000+01:00  No renovable  Ceuta   \n",
       "0  212071.91         1.0  2012-01-01T00:00:00.000+01:00  No renovable  Ceuta   \n",
       "0  201964.94         1.0  2013-01-01T00:00:00.000+01:00  No renovable  Ceuta   \n",
       "0  212245.16         1.0  2014-01-01T00:00:00.000+01:00  No renovable  Ceuta   \n",
       "0  204023.09         1.0  2015-01-01T00:00:00.000+01:00  No renovable  Ceuta   \n",
       "\n",
       "         date  \n",
       "0  2011-01-01  \n",
       "0  2012-01-01  \n",
       "0  2013-01-01  \n",
       "0  2014-01-01  \n",
       "0  2015-01-01  "
      ]
     },
     "execution_count": 23,
     "metadata": {},
     "output_type": "execute_result"
    }
   ],
   "source": [
    "df_ccaa['date'] = df_ccaa['datetime'].str.split('T', expand=True).get(0)\n",
    "df_ccaa.head()"
   ]
  },
  {
   "cell_type": "code",
   "execution_count": 24,
   "metadata": {},
   "outputs": [
    {
     "data": {
      "text/plain": [
       "value         float64\n",
       "percentage    float64\n",
       "datetime       object\n",
       "type           object\n",
       "ccaa           object\n",
       "date           object\n",
       "dtype: object"
      ]
     },
     "execution_count": 24,
     "metadata": {},
     "output_type": "execute_result"
    }
   ],
   "source": [
    "df_ccaa.dtypes"
   ]
  },
  {
   "cell_type": "code",
   "execution_count": 25,
   "metadata": {},
   "outputs": [
    {
     "data": {
      "text/plain": [
       "value                float64\n",
       "percentage           float64\n",
       "datetime              object\n",
       "type                  object\n",
       "ccaa                  object\n",
       "date          datetime64[ns]\n",
       "dtype: object"
      ]
     },
     "execution_count": 25,
     "metadata": {},
     "output_type": "execute_result"
    }
   ],
   "source": [
    "df_ccaa['date'] = pd.to_datetime(df_ccaa['date'])\n",
    "df_ccaa.dtypes"
   ]
  },
  {
   "cell_type": "markdown",
   "metadata": {},
   "source": [
    "4. Guardar los resultados obtenidos en pickle que usaremos en próximos ejercicios de pair programming. Cada fichero debe ir en un pickle"
   ]
  },
  {
   "cell_type": "code",
   "execution_count": 26,
   "metadata": {},
   "outputs": [],
   "source": [
    "df_nacional.to_pickle('../datos/renovable_no_renovable_nacional2.pkl')\n",
    "df_ccaa.to_pickle('../datos/renovable_no_renovable_ccaa2.pkl')"
   ]
  }
 ],
 "metadata": {
  "kernelspec": {
   "display_name": "adalabenv",
   "language": "python",
   "name": "python3"
  },
  "language_info": {
   "codemirror_mode": {
    "name": "ipython",
    "version": 3
   },
   "file_extension": ".py",
   "mimetype": "text/x-python",
   "name": "python",
   "nbconvert_exporter": "python",
   "pygments_lexer": "ipython3",
   "version": "3.10.9"
  },
  "orig_nbformat": 4
 },
 "nbformat": 4,
 "nbformat_minor": 2
}
