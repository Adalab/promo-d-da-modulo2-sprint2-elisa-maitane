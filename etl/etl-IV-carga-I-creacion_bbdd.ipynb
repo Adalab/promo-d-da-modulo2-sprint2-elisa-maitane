{
 "cells": [
  {
   "attachments": {},
   "cell_type": "markdown",
   "metadata": {},
   "source": [
    "## Pair Programming ETL Carga I\n"
   ]
  },
  {
   "attachments": {},
   "cell_type": "markdown",
   "metadata": {},
   "source": [
    "Es el momento de meter todos nuestros datos en SQL 💪🏽!!! En este ejercicio nos crearemos dos tablas en una BBDD creada por nosotras.\n",
    "📌 Nota Todo lo tendremos que hacer desde jupyter notebook\n"
   ]
  },
  {
   "cell_type": "code",
   "execution_count": 2,
   "metadata": {},
   "outputs": [],
   "source": [
    "import pandas as pd\n",
    "import mysql.connector"
   ]
  },
  {
   "cell_type": "code",
   "execution_count": null,
   "metadata": {},
   "outputs": [],
   "source": [
    "-- MySQL Workbench Forward Engineering\n",
    "\n",
    "SET @OLD_UNIQUE_CHECKS=@@UNIQUE_CHECKS, UNIQUE_CHECKS=0;\n",
    "SET @OLD_FOREIGN_KEY_CHECKS=@@FOREIGN_KEY_CHECKS, FOREIGN_KEY_CHECKS=0;\n",
    "SET @OLD_SQL_MODE=@@SQL_MODE, SQL_MODE='ONLY_FULL_GROUP_BY,STRICT_TRANS_TABLES,NO_ZERO_IN_DATE,NO_ZERO_DATE,ERROR_FOR_DIVISION_BY_ZERO,NO_ENGINE_SUBSTITUTION';\n",
    "\n",
    "-- -----------------------------------------------------\n",
    "-- Schema energia\n",
    "-- -----------------------------------------------------\n",
    "\n",
    "-- -----------------------------------------------------\n",
    "-- Schema energia\n",
    "-- -----------------------------------------------------\n",
    "CREATE SCHEMA IF NOT EXISTS `energia` DEFAULT CHARACTER SET utf8 ;\n",
    "USE `energia` ;\n",
    "\n",
    "-- -----------------------------------------------------\n",
    "-- Table `energia`.`fecha`\n",
    "-- -----------------------------------------------------\n",
    "CREATE TABLE IF NOT EXISTS `energia`.`fecha` (\n",
    "  `idfecha` INT NOT NULL AUTO_INCREMENT,\n",
    "  `fecha` DATE NOT NULL,\n",
    "  PRIMARY KEY (`idfecha`))\n",
    "ENGINE = InnoDB;\n",
    "\n",
    "\n",
    "-- -----------------------------------------------------\n",
    "-- Table `energia`.`nacional_renovable_no_renovable`\n",
    "-- -----------------------------------------------------\n",
    "CREATE TABLE IF NOT EXISTS `energia`.`nacional_renovable_no_renovable` (\n",
    "  `id_nacional_renovable_no_renovable` INT NOT NULL AUTO_INCREMENT,\n",
    "  `porcentaje` INT NOT NULL,\n",
    "  `tipo_energia` VARCHAR(45) NOT NULL,\n",
    "  `valor` DECIMAL NOT NULL,\n",
    "  `fecha_idfecha` INT NOT NULL,\n",
    "  PRIMARY KEY (`id_nacional_renovable_no_renovable`),\n",
    "  INDEX `fk_nacional_renovable_no_renovable_fecha_idx` (`fecha_idfecha` ASC) VISIBLE,\n",
    "  CONSTRAINT `fk_nacional_renovable_no_renovable_fecha`\n",
    "    FOREIGN KEY (`fecha_idfecha`)\n",
    "    REFERENCES `energia`.`fecha` (`idfecha`)\n",
    "    ON DELETE CASCADE\n",
    "    ON UPDATE CASCADE)\n",
    "ENGINE = InnoDB;\n",
    "\n",
    "\n",
    "-- -----------------------------------------------------\n",
    "-- Table `energia`.`comunidades`\n",
    "-- -----------------------------------------------------\n",
    "CREATE TABLE IF NOT EXISTS `energia`.`comunidades` (\n",
    "  `idcomunidades` INT NOT NULL AUTO_INCREMENT,\n",
    "  `comunidad` VARCHAR(45) NOT NULL,\n",
    "  PRIMARY KEY (`idcomunidades`))\n",
    "ENGINE = InnoDB;\n",
    "\n",
    "\n",
    "-- -----------------------------------------------------\n",
    "-- Table `energia`.`comunidades_renovable_no_renovable`\n",
    "-- -----------------------------------------------------\n",
    "CREATE TABLE IF NOT EXISTS `energia`.`comunidades_renovable_no_renovable` (\n",
    "  `idcomunidad_renovable_no_renovable` INT NOT NULL AUTO_INCREMENT,\n",
    "  `porcentaje` INT NOT NULL,\n",
    "  `tipo_energia` VARCHAR(45) NOT NULL,\n",
    "  `valor` DECIMAL NOT NULL,\n",
    "  `fecha_idfecha` INT NOT NULL,\n",
    "  `comunidades_idcomunidades` INT NOT NULL,\n",
    "  PRIMARY KEY (`idcomunidad_renovable_no_renovable`),\n",
    "  INDEX `fk_comunidades_renovable_no_renovable_fecha1_idx` (`fecha_idfecha` ASC) VISIBLE,\n",
    "  INDEX `fk_comunidades_renovable_no_renovable_comunidades1_idx` (`comunidades_idcomunidades` ASC) VISIBLE,\n",
    "  CONSTRAINT `fk_comunidades_renovable_no_renovable_fecha1`\n",
    "    FOREIGN KEY (`fecha_idfecha`)\n",
    "    REFERENCES `energia`.`fecha` (`idfecha`)\n",
    "    ON DELETE CASCADE\n",
    "    ON UPDATE CASCADE,\n",
    "  CONSTRAINT `fk_comunidades_renovable_no_renovable_comunidades1`\n",
    "    FOREIGN KEY (`comunidades_idcomunidades`)\n",
    "    REFERENCES `energia`.`comunidades` (`idcomunidades`)\n",
    "    ON DELETE CASCADE\n",
    "    ON UPDATE CASCADE)\n",
    "ENGINE = InnoDB;\n",
    "\n",
    "\n",
    "SET SQL_MODE=@OLD_SQL_MODE;\n",
    "SET FOREIGN_KEY_CHECKS=@OLD_FOREIGN_KEY_CHECKS;\n",
    "SET UNIQUE_CHECKS=@OLD_UNIQUE_CHECKS;\n"
   ]
  },
  {
   "attachments": {},
   "cell_type": "markdown",
   "metadata": {},
   "source": [
    "1. Cread la BBDD con el nombre de energía. La BBDD tendrá la siguiente forma:"
   ]
  },
  {
   "cell_type": "code",
   "execution_count": 3,
   "metadata": {},
   "outputs": [],
   "source": [
    "def crear_bbdd(nombre_bbdd):\n",
    "    \n",
    "    mydb = mysql.connector.connect(\n",
    "      host=\"localhost\",\n",
    "      user=\"root\",\n",
    "      password=\"AlumnaAdalab\")\n",
    "    \n",
    "    print(\"Conexión realizada con éxito\")\n",
    "    \n",
    "    mycursor = mydb.cursor()\n",
    "\n",
    "    try:\n",
    "        mycursor.execute(f\"CREATE DATABASE IF NOT EXISTS {nombre_bbdd};\")\n",
    "        print(mycursor)\n",
    "    except mysql.connector.Error as err:\n",
    "        print(err)\n",
    "        print(\"Error Code:\", err.errno)\n",
    "        print(\"SQLSTATE\", err.sqlstate)\n",
    "        print(\"Message\", err.msg)\n"
   ]
  },
  {
   "attachments": {},
   "cell_type": "markdown",
   "metadata": {},
   "source": [
    "2. Cread las tablas de la BBDD:\n",
    "Tabla fechas\n",
    "Tabla nacional_renovable_no_renovable\n",
    "Tabla comunidades_renovable_no_renovable\n",
    "Tabla comunidades"
   ]
  },
  {
   "cell_type": "code",
   "execution_count": null,
   "metadata": {},
   "outputs": [],
   "source": [
    "def crear_insertar_tabla(nombre_bbdd, contraseña, query):\n",
    "    \n",
    "    cnx = mysql.connector.connect(user='root', password=f\"{contraseña}\",\n",
    "                                     host='127.0.0.1', database=f\"{nombre_bbdd}\")\n",
    "    \n",
    "    mycursor = cnx.cursor()\n",
    "    \n",
    "    \n",
    "    try: \n",
    "        mycursor.execute(query)\n",
    "        cnx.commit() \n",
    "    \n",
    "    except mysql.connector.Error as err:\n",
    "        print(err)\n",
    "        print(\"Error Code:\", err.errno)\n",
    "        print(\"SQLSTATE\", err.sqlstate)\n",
    "        print(\"Message\", err.msg)"
   ]
  },
  {
   "attachments": {},
   "cell_type": "markdown",
   "metadata": {},
   "source": [
    "3. BONUS Insertar los datos en las tablas.\n",
    "📌 Nota Esta parte del pair es optativa y no será considerada para la evaluación"
   ]
  }
 ],
 "metadata": {
  "kernelspec": {
   "display_name": "base",
   "language": "python",
   "name": "python3"
  },
  "language_info": {
   "codemirror_mode": {
    "name": "ipython",
    "version": 3
   },
   "file_extension": ".py",
   "mimetype": "text/x-python",
   "name": "python",
   "nbconvert_exporter": "python",
   "pygments_lexer": "ipython3",
   "version": "3.9.7"
  },
  "orig_nbformat": 4
 },
 "nbformat": 4,
 "nbformat_minor": 2
}
