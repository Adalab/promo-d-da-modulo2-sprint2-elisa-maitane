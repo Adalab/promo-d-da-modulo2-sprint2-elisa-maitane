{
 "cells": [
  {
   "attachments": {},
   "cell_type": "markdown",
   "metadata": {},
   "source": [
    "## Pair Programming ETL Carga I\n"
   ]
  },
  {
   "attachments": {},
   "cell_type": "markdown",
   "metadata": {},
   "source": [
    "Es el momento de meter todos nuestros datos en SQL 💪🏽!!! En este ejercicio nos crearemos dos tablas en una BBDD creada por nosotras.\n",
    "📌 Nota Todo lo tendremos que hacer desde jupyter notebook\n"
   ]
  },
  {
   "cell_type": "code",
   "execution_count": 1,
   "metadata": {},
   "outputs": [],
   "source": [
    "import pandas as pd\n",
    "import mysql.connector\n",
    "import os\n",
    "if 'etl' not in os.getcwd():\n",
    "    os.chdir('etl')"
   ]
  },
  {
   "attachments": {},
   "cell_type": "markdown",
   "metadata": {},
   "source": [
    "1. Cread la BBDD con el nombre de energía. La BBDD tendrá la siguiente forma:"
   ]
  },
  {
   "cell_type": "code",
   "execution_count": 2,
   "metadata": {},
   "outputs": [],
   "source": [
    "def crear_bbdd(nombre_bbdd):\n",
    "    \n",
    "    mydb = mysql.connector.connect(\n",
    "      host=\"localhost\",\n",
    "      user=\"root\",\n",
    "      password=\"AlumnaAdalab\")\n",
    "    \n",
    "    print(\"Conexión realizada con éxito\")\n",
    "    \n",
    "    mycursor = mydb.cursor()\n",
    "\n",
    "    try:\n",
    "        mycursor.execute(f\"CREATE DATABASE IF NOT EXISTS {nombre_bbdd};\")\n",
    "        print(mycursor)\n",
    "    except mysql.connector.Error as err:\n",
    "        print(err)\n",
    "        print(\"Error Code:\", err.errno)\n",
    "        print(\"SQLSTATE\", err.sqlstate)\n",
    "        print(\"Message\", err.msg)\n"
   ]
  },
  {
   "cell_type": "code",
   "execution_count": 3,
   "metadata": {},
   "outputs": [
    {
     "name": "stdout",
     "output_type": "stream",
     "text": [
      "Conexión realizada con éxito\n",
      "MySQLCursor: CREATE DATABASE IF NOT EXISTS energia;\n"
     ]
    }
   ],
   "source": [
    "database = crear_bbdd('energia')"
   ]
  },
  {
   "attachments": {},
   "cell_type": "markdown",
   "metadata": {},
   "source": [
    "2. Cread las tablas de la BBDD:\n",
    "Tabla fechas\n",
    "Tabla nacional_renovable_no_renovable\n",
    "Tabla comunidades_renovable_no_renovable\n",
    "Tabla comunidades"
   ]
  },
  {
   "cell_type": "code",
   "execution_count": 4,
   "metadata": {},
   "outputs": [],
   "source": [
    "def crear_insertar_tabla(nombre_bbdd, contraseña, query):\n",
    "    \n",
    "    cnx = mysql.connector.connect(user='root', password=f\"{contraseña}\",\n",
    "                                     host='127.0.0.1', database=f\"{nombre_bbdd}\")\n",
    "    \n",
    "    mycursor = cnx.cursor()\n",
    "    \n",
    "    \n",
    "    try: \n",
    "        mycursor.execute(query)\n",
    "        cnx.commit() \n",
    "    \n",
    "    except mysql.connector.Error as err:\n",
    "        print(err)\n",
    "        print(\"Error Code:\", err.errno)\n",
    "        print(\"SQLSTATE\", err.sqlstate)\n",
    "        print(\"Message\", err.msg)"
   ]
  },
  {
   "cell_type": "code",
   "execution_count": 5,
   "metadata": {},
   "outputs": [],
   "source": [
    "tabla_fechas = \"\"\"CREATE TABLE IF NOT EXISTS `energia`.`fecha` (\n",
    "  `idfecha` INT NOT NULL AUTO_INCREMENT,\n",
    "  `fecha` DATE NOT NULL,\n",
    "  PRIMARY KEY (`idfecha`))\n",
    "ENGINE = InnoDB;\"\"\""
   ]
  },
  {
   "cell_type": "code",
   "execution_count": 6,
   "metadata": {},
   "outputs": [],
   "source": [
    "tabla_nacional_renov_no_renov = \"\"\"CREATE TABLE IF NOT EXISTS `energia`.`nacional_renovable_no_renovable` (\n",
    "  `id_nacional_renovable_no_renovable` INT NOT NULL AUTO_INCREMENT,\n",
    "  `porcentaje` INT NOT NULL,\n",
    "  `tipo_energia` VARCHAR(45) NOT NULL,\n",
    "  `valor` DECIMAL NOT NULL,\n",
    "  `fecha_idfecha` INT NOT NULL,\n",
    "  PRIMARY KEY (`id_nacional_renovable_no_renovable`),\n",
    "  INDEX `fk_nacional_renovable_no_renovable_fecha_idx` (`fecha_idfecha` ASC) VISIBLE,\n",
    "  CONSTRAINT `fk_nacional_renovable_no_renovable_fecha`\n",
    "    FOREIGN KEY (`fecha_idfecha`)\n",
    "    REFERENCES `energia`.`fecha` (`idfecha`)\n",
    "    ON DELETE CASCADE\n",
    "    ON UPDATE CASCADE)\n",
    "ENGINE = InnoDB;\"\"\""
   ]
  },
  {
   "cell_type": "code",
   "execution_count": 7,
   "metadata": {},
   "outputs": [],
   "source": [
    "tabla_comunidades = \"\"\"CREATE TABLE IF NOT EXISTS `energia`.`comunidades` (\n",
    "  `idcomunidades` INT NOT NULL AUTO_INCREMENT,\n",
    "  `comunidad` VARCHAR(45) NOT NULL,\n",
    "  PRIMARY KEY (`idcomunidades`))\n",
    "ENGINE = InnoDB;\"\"\"\n"
   ]
  },
  {
   "cell_type": "code",
   "execution_count": 8,
   "metadata": {},
   "outputs": [],
   "source": [
    "tabla_comun_renov_no_renov = \"\"\"CREATE TABLE IF NOT EXISTS `energia`.`comunidades_renovable_no_renovable` (\n",
    "  `idcomunidad_renovable_no_renovable` INT NOT NULL AUTO_INCREMENT,\n",
    "  `porcentaje` INT NOT NULL,\n",
    "  `tipo_energia` VARCHAR(45) NOT NULL,\n",
    "  `valor` DECIMAL NOT NULL,\n",
    "  `fecha_idfecha` INT NOT NULL,\n",
    "  `comunidades_idcomunidades` INT NOT NULL,\n",
    "  PRIMARY KEY (`idcomunidad_renovable_no_renovable`),\n",
    "  INDEX `fk_comunidades_renovable_no_renovable_fecha1_idx` (`fecha_idfecha` ASC) VISIBLE,\n",
    "  INDEX `fk_comunidades_renovable_no_renovable_comunidades1_idx` (`comunidades_idcomunidades` ASC) VISIBLE,\n",
    "  CONSTRAINT `fk_comunidades_renovable_no_renovable_fecha1`\n",
    "    FOREIGN KEY (`fecha_idfecha`)\n",
    "    REFERENCES `energia`.`fecha` (`idfecha`)\n",
    "    ON DELETE CASCADE\n",
    "    ON UPDATE CASCADE,\n",
    "  CONSTRAINT `fk_comunidades_renovable_no_renovable_comunidades1`\n",
    "    FOREIGN KEY (`comunidades_idcomunidades`)\n",
    "    REFERENCES `energia`.`comunidades` (`idcomunidades`)\n",
    "    ON DELETE CASCADE\n",
    "    ON UPDATE CASCADE)\n",
    "ENGINE = InnoDB;\"\"\""
   ]
  },
  {
   "cell_type": "code",
   "execution_count": 9,
   "metadata": {},
   "outputs": [],
   "source": [
    "crear_insertar_tabla('energia', 'AlumnaAdalab', tabla_fechas)"
   ]
  },
  {
   "cell_type": "code",
   "execution_count": 10,
   "metadata": {},
   "outputs": [],
   "source": [
    "crear_insertar_tabla('energia', 'AlumnaAdalab', tabla_comunidades)"
   ]
  },
  {
   "cell_type": "code",
   "execution_count": 11,
   "metadata": {},
   "outputs": [],
   "source": [
    "crear_insertar_tabla('energia', 'AlumnaAdalab', tabla_comun_renov_no_renov)"
   ]
  },
  {
   "cell_type": "code",
   "execution_count": 12,
   "metadata": {},
   "outputs": [],
   "source": [
    "crear_insertar_tabla('energia', 'AlumnaAdalab', tabla_nacional_renov_no_renov)"
   ]
  },
  {
   "attachments": {},
   "cell_type": "markdown",
   "metadata": {},
   "source": [
    "3. BONUS Insertar los datos en las tablas.\n",
    "📌 Nota Esta parte del pair es optativa y no será considerada para la evaluación"
   ]
  },
  {
   "cell_type": "code",
   "execution_count": 13,
   "metadata": {},
   "outputs": [
    {
     "data": {
      "text/html": [
       "<div>\n",
       "<style scoped>\n",
       "    .dataframe tbody tr th:only-of-type {\n",
       "        vertical-align: middle;\n",
       "    }\n",
       "\n",
       "    .dataframe tbody tr th {\n",
       "        vertical-align: top;\n",
       "    }\n",
       "\n",
       "    .dataframe thead th {\n",
       "        text-align: right;\n",
       "    }\n",
       "</style>\n",
       "<table border=\"1\" class=\"dataframe\">\n",
       "  <thead>\n",
       "    <tr style=\"text-align: right;\">\n",
       "      <th></th>\n",
       "      <th>value</th>\n",
       "      <th>percentage</th>\n",
       "      <th>datetime</th>\n",
       "      <th>type</th>\n",
       "      <th>date</th>\n",
       "    </tr>\n",
       "  </thead>\n",
       "  <tbody>\n",
       "    <tr>\n",
       "      <th>0</th>\n",
       "      <td>8.666705e+07</td>\n",
       "      <td>0.31</td>\n",
       "      <td>2011-01-01T00:00:00.000+01:00</td>\n",
       "      <td>Renovable</td>\n",
       "      <td>2011-01-01</td>\n",
       "    </tr>\n",
       "    <tr>\n",
       "      <th>0</th>\n",
       "      <td>1.926868e+08</td>\n",
       "      <td>0.69</td>\n",
       "      <td>2011-01-01T00:00:00.000+01:00</td>\n",
       "      <td>No renovable</td>\n",
       "      <td>2011-01-01</td>\n",
       "    </tr>\n",
       "  </tbody>\n",
       "</table>\n",
       "</div>"
      ],
      "text/plain": [
       "          value  percentage                       datetime          type  \\\n",
       "0  8.666705e+07        0.31  2011-01-01T00:00:00.000+01:00     Renovable   \n",
       "0  1.926868e+08        0.69  2011-01-01T00:00:00.000+01:00  No renovable   \n",
       "\n",
       "        date  \n",
       "0 2011-01-01  \n",
       "0 2011-01-01  "
      ]
     },
     "execution_count": 13,
     "metadata": {},
     "output_type": "execute_result"
    }
   ],
   "source": [
    "df = pd.read_pickle(\"../datos/renovable_no_renovable_nacional2.pkl\")\n",
    "df.head(2)"
   ]
  },
  {
   "cell_type": "code",
   "execution_count": 27,
   "metadata": {},
   "outputs": [
    {
     "data": {
      "text/plain": [
       "array(['2011-01-01T00:00:00.000000000', '2012-01-01T00:00:00.000000000',\n",
       "       '2013-01-01T00:00:00.000000000', '2014-01-01T00:00:00.000000000',\n",
       "       '2015-01-01T00:00:00.000000000', '2016-01-01T00:00:00.000000000',\n",
       "       '2017-01-01T00:00:00.000000000', '2018-01-01T00:00:00.000000000',\n",
       "       '2019-01-01T00:00:00.000000000', '2020-01-01T00:00:00.000000000',\n",
       "       '2021-01-01T00:00:00.000000000', '2022-01-01T00:00:00.000000000'],\n",
       "      dtype='datetime64[ns]')"
      ]
     },
     "execution_count": 27,
     "metadata": {},
     "output_type": "execute_result"
    }
   ],
   "source": [
    "df['date'].unique()"
   ]
  },
  {
   "cell_type": "code",
   "execution_count": 21,
   "metadata": {},
   "outputs": [
    {
     "data": {
      "text/html": [
       "<div>\n",
       "<style scoped>\n",
       "    .dataframe tbody tr th:only-of-type {\n",
       "        vertical-align: middle;\n",
       "    }\n",
       "\n",
       "    .dataframe tbody tr th {\n",
       "        vertical-align: top;\n",
       "    }\n",
       "\n",
       "    .dataframe thead th {\n",
       "        text-align: right;\n",
       "    }\n",
       "</style>\n",
       "<table border=\"1\" class=\"dataframe\">\n",
       "  <thead>\n",
       "    <tr style=\"text-align: right;\">\n",
       "      <th></th>\n",
       "      <th>value</th>\n",
       "      <th>percentage</th>\n",
       "      <th>datetime</th>\n",
       "      <th>type</th>\n",
       "      <th>ccaa</th>\n",
       "      <th>date</th>\n",
       "    </tr>\n",
       "  </thead>\n",
       "  <tbody>\n",
       "    <tr>\n",
       "      <th>0</th>\n",
       "      <td>202972.89</td>\n",
       "      <td>1.0</td>\n",
       "      <td>2011-01-01T00:00:00.000+01:00</td>\n",
       "      <td>No renovable</td>\n",
       "      <td>Ceuta</td>\n",
       "      <td>2011-01-01</td>\n",
       "    </tr>\n",
       "    <tr>\n",
       "      <th>0</th>\n",
       "      <td>212071.91</td>\n",
       "      <td>1.0</td>\n",
       "      <td>2012-01-01T00:00:00.000+01:00</td>\n",
       "      <td>No renovable</td>\n",
       "      <td>Ceuta</td>\n",
       "      <td>2012-01-01</td>\n",
       "    </tr>\n",
       "  </tbody>\n",
       "</table>\n",
       "</div>"
      ],
      "text/plain": [
       "       value  percentage                       datetime          type   ccaa  \\\n",
       "0  202972.89         1.0  2011-01-01T00:00:00.000+01:00  No renovable  Ceuta   \n",
       "0  212071.91         1.0  2012-01-01T00:00:00.000+01:00  No renovable  Ceuta   \n",
       "\n",
       "        date  \n",
       "0 2011-01-01  \n",
       "0 2012-01-01  "
      ]
     },
     "execution_count": 21,
     "metadata": {},
     "output_type": "execute_result"
    }
   ],
   "source": [
    "df_com = pd.read_pickle(\"../datos/renovable_no_renovable_ccaa2.pkl\")\n",
    "df_com.head(2)"
   ]
  },
  {
   "cell_type": "code",
   "execution_count": 28,
   "metadata": {},
   "outputs": [
    {
     "data": {
      "text/plain": [
       "array(['2011-01-01T00:00:00.000000000', '2012-01-01T00:00:00.000000000',\n",
       "       '2013-01-01T00:00:00.000000000', '2014-01-01T00:00:00.000000000',\n",
       "       '2015-01-01T00:00:00.000000000', '2016-01-01T00:00:00.000000000',\n",
       "       '2017-01-01T00:00:00.000000000', '2018-01-01T00:00:00.000000000',\n",
       "       '2019-01-01T00:00:00.000000000', '2020-01-01T00:00:00.000000000',\n",
       "       '2021-01-01T00:00:00.000000000', '2022-01-01T00:00:00.000000000'],\n",
       "      dtype='datetime64[ns]')"
      ]
     },
     "execution_count": 28,
     "metadata": {},
     "output_type": "execute_result"
    }
   ],
   "source": [
    "df_com['date'].unique()"
   ]
  },
  {
   "cell_type": "code",
   "execution_count": 16,
   "metadata": {},
   "outputs": [],
   "source": [
    "for indice, fila in df.iterrows():\n",
    "    \n",
    "    query_fecha = f\"\"\"INSERT INTO fecha(fecha)\n",
    "    VALUES(\"{fila['date']}\");\"\"\"\n",
    "    \n",
    "    crear_insertar_tabla(\"energia\", \"AlumnaAdalab\", query_fecha)"
   ]
  },
  {
   "cell_type": "code",
   "execution_count": 18,
   "metadata": {},
   "outputs": [],
   "source": [
    "def check_comunidades(contraseña, nombre_bbdd):\n",
    "    \n",
    "    cnx = mysql.connector.connect(user='root', password=f'{contraseña}',\n",
    "                                  host='127.0.0.1', database=f\"{nombre_bbdd}\")\n",
    "    mycursor = cnx.cursor()\n",
    "\n",
    "\n",
    "    query_existe_comunidad= f\"\"\"\n",
    "            SELECT DISTINCT comunidad FROM comunidades\n",
    "            \"\"\"\n",
    "    mycursor.execute(query_existe_comunidad)\n",
    "    comunidad = mycursor.fetchall()\n",
    "    return comunidad"
   ]
  },
  {
   "cell_type": "code",
   "execution_count": 19,
   "metadata": {},
   "outputs": [
    {
     "data": {
      "text/plain": [
       "[]"
      ]
     },
     "execution_count": 19,
     "metadata": {},
     "output_type": "execute_result"
    }
   ],
   "source": [
    "check_comunidades('AlumnaAdalab', 'energia')"
   ]
  },
  {
   "cell_type": "code",
   "execution_count": 24,
   "metadata": {},
   "outputs": [
    {
     "name": "stdout",
     "output_type": "stream",
     "text": [
      "Ceuta ya esta en nuestra BBDD\n",
      "Ceuta ya esta en nuestra BBDD\n",
      "Ceuta ya esta en nuestra BBDD\n",
      "Ceuta ya esta en nuestra BBDD\n",
      "Ceuta ya esta en nuestra BBDD\n",
      "Ceuta ya esta en nuestra BBDD\n",
      "Ceuta ya esta en nuestra BBDD\n",
      "Ceuta ya esta en nuestra BBDD\n",
      "Ceuta ya esta en nuestra BBDD\n",
      "Ceuta ya esta en nuestra BBDD\n",
      "Ceuta ya esta en nuestra BBDD\n"
     ]
    }
   ],
   "source": [
    "for indice, fila in df_com.iterrows():\n",
    "    \n",
    "    query_comunidad = f\"\"\"\n",
    "                INSERT INTO comunidades (comunidad) \n",
    "                VALUES (\"{fila['ccaa']}\");\n",
    "                \"\"\"\n",
    "    comunidades = check_comunidades(\"AlumnaAdalab\", \"energia\")\n",
    "    \n",
    "    if len(comunidades) == 0 or fila['ccaa'] not in comunidades[0]: \n",
    "        crear_insertar_tabla(\"energia\",\"AlumnaAdalab\", query_comunidad)\n",
    "\n",
    "    else:\n",
    "        print(f\"{fila['ccaa']} ya esta en nuestra BBDD\")    "
   ]
  },
  {
   "cell_type": "code",
   "execution_count": 25,
   "metadata": {},
   "outputs": [],
   "source": [
    "def sacar_id_comunidad(contraseña, nombre_bbdd, comunidad):\n",
    "    \n",
    "    cnx = mysql.connector.connect(user='root', password= f'{contraseña}',\n",
    "                                  host='127.0.0.1', database=f\"{nombre_bbdd}\")\n",
    "    mycursor = cnx.cursor()\n",
    "\n",
    "    query_sacar_id = f\"SELECT idcomunidades FROM comunidades WHERE comunidad = '{comunidad}'\"\n",
    "    \n",
    "    try: \n",
    "        mycursor.execute(query_sacar_id)\n",
    "        id_ = mycursor.fetchall()[0][0]\n",
    "        return id_\n",
    "    \n",
    "    except: \n",
    "        return \"Sorry, no tenemos esa comunidad en la BBDD y por lo tanto no te podemos dar su id. \""
   ]
  },
  {
   "cell_type": "code",
   "execution_count": 26,
   "metadata": {},
   "outputs": [
    {
     "name": "stdout",
     "output_type": "stream",
     "text": [
      "{'Ceuta': 1, 'Melilla': 2, 'Andalucía': 26, 'Aragón': 50, 'Cantabria': 74, 'Castilla - La Mancha': 98, 'Castilla y León': 122, 'Cataluña': 146, 'País Vasco': 170, 'Principado de Asturias': 194, 'Comunidad de Madrid': 218, 'Comunidad Foral de Navarra': 242, 'Comunitat Valenciana': 266, 'Extremadura': 290, 'Galicia': 314, 'Illes Balears': 338, 'Canarias': 362, 'Región de Murcia': 386, 'La Rioja': 410}\n"
     ]
    }
   ],
   "source": [
    "dicc_com = {}\n",
    "\n",
    "for com in df_com['ccaa'].unique():\n",
    "    id_com = sacar_id_comunidad('AlumnaAdalab', 'energia', com)\n",
    "    dicc_com[com] = id_com\n",
    "\n",
    "print(dicc_com)"
   ]
  },
  {
   "cell_type": "code",
   "execution_count": null,
   "metadata": {},
   "outputs": [],
   "source": [
    "def sacar_id_fecha(contraseña, nombre_bbdd, fecha):\n",
    "        \n",
    "    cnx = mysql.connector.connect(user='root', password=f'{contraseña}',\n",
    "                                    host='127.0.0.1', database=f\"{nombre_bbdd}\")\n",
    "    mycursor = cnx.cursor()\n",
    "\n",
    "\n",
    "    query_sacar_id = f\"SELECT idtiempo FROM tiempo WHERE and fecha = '{fecha}'\"\n",
    "    \n",
    "    try: \n",
    "        mycursor.execute(query_sacar_id)\n",
    "        id_ = mycursor.fetchall()[0][0]\n",
    "        return id_\n",
    "    \n",
    "    except: \n",
    "            return \"Sorry, no tenemos esa fecha en la BBDD y por lo tanto no te podemos dar su id. \""
   ]
  },
  {
   "cell_type": "code",
   "execution_count": null,
   "metadata": {},
   "outputs": [],
   "source": [
    "dicc_fecha = {}\n",
    "\n",
    "for  in df_com['fecha'].unique():\n",
    "    id_com = sacar_id_comunidad('AlumnaAdalab', 'energia', com)\n",
    "    dicc_com[com] = id_com\n",
    "\n",
    "print(dicc_com)"
   ]
  }
 ],
 "metadata": {
  "kernelspec": {
   "display_name": "base",
   "language": "python",
   "name": "python3"
  },
  "language_info": {
   "codemirror_mode": {
    "name": "ipython",
    "version": 3
   },
   "file_extension": ".py",
   "mimetype": "text/x-python",
   "name": "python",
   "nbconvert_exporter": "python",
   "pygments_lexer": "ipython3",
   "version": "3.10.11"
  },
  "orig_nbformat": 4
 },
 "nbformat": 4,
 "nbformat_minor": 2
}
