{
 "cells": [
  {
   "attachments": {},
   "cell_type": "markdown",
   "metadata": {},
   "source": [
    "# **Ejercicios de pair programming Módulo 2 - Sprint 2**\n",
    "## **EDA I. Introducción**\n",
    "---"
   ]
  },
  {
   "attachments": {},
   "cell_type": "markdown",
   "metadata": {},
   "source": [
    "1. Haced una exploración inicial del dataframe:\n",
    "- ¿Cuál es el número de filas y columnas?"
   ]
  },
  {
   "cell_type": "code",
   "execution_count": 2,
   "metadata": {},
   "outputs": [],
   "source": [
    "import pandas as pd"
   ]
  },
  {
   "cell_type": "code",
   "execution_count": 3,
   "metadata": {},
   "outputs": [
    {
     "data": {
      "text/html": [
       "<div>\n",
       "<style scoped>\n",
       "    .dataframe tbody tr th:only-of-type {\n",
       "        vertical-align: middle;\n",
       "    }\n",
       "\n",
       "    .dataframe tbody tr th {\n",
       "        vertical-align: top;\n",
       "    }\n",
       "\n",
       "    .dataframe thead th {\n",
       "        text-align: right;\n",
       "    }\n",
       "</style>\n",
       "<table border=\"1\" class=\"dataframe\">\n",
       "  <thead>\n",
       "    <tr style=\"text-align: right;\">\n",
       "      <th></th>\n",
       "      <th>id_ticket</th>\n",
       "      <th>fecha</th>\n",
       "      <th>id_empleado</th>\n",
       "      <th>id_agente</th>\n",
       "      <th>categoría</th>\n",
       "      <th>tipo</th>\n",
       "      <th>severidad</th>\n",
       "      <th>prioridad</th>\n",
       "      <th>días_resolución</th>\n",
       "      <th>satisfacción</th>\n",
       "      <th>semestre</th>\n",
       "      <th>año</th>\n",
       "      <th>mes</th>\n",
       "    </tr>\n",
       "  </thead>\n",
       "  <tbody>\n",
       "    <tr>\n",
       "      <th>0</th>\n",
       "      <td>GDDENR-5042564453</td>\n",
       "      <td>2016-07-13</td>\n",
       "      <td>1735</td>\n",
       "      <td>4</td>\n",
       "      <td>Acceso/Login</td>\n",
       "      <td>Problema</td>\n",
       "      <td>0 - Sin Clasificar</td>\n",
       "      <td>0 - Sin Asignar</td>\n",
       "      <td>0</td>\n",
       "      <td>5</td>\n",
       "      <td>2º semestre</td>\n",
       "      <td>2016</td>\n",
       "      <td>Julio</td>\n",
       "    </tr>\n",
       "    <tr>\n",
       "      <th>1</th>\n",
       "      <td>GDDENR-8042508060</td>\n",
       "      <td>2016-05-18</td>\n",
       "      <td>1566</td>\n",
       "      <td>10</td>\n",
       "      <td>Acceso/Login</td>\n",
       "      <td>Problema</td>\n",
       "      <td>0 - Sin Clasificar</td>\n",
       "      <td>0 - Sin Asignar</td>\n",
       "      <td>0</td>\n",
       "      <td>5</td>\n",
       "      <td>1 semestre</td>\n",
       "      <td>2016</td>\n",
       "      <td>Mayo</td>\n",
       "    </tr>\n",
       "    <tr>\n",
       "      <th>2</th>\n",
       "      <td>GDDESR-1342539995</td>\n",
       "      <td>2016-06-18</td>\n",
       "      <td>569</td>\n",
       "      <td>29</td>\n",
       "      <td>Sistema</td>\n",
       "      <td>Problema</td>\n",
       "      <td>0 - Sin Clasificar</td>\n",
       "      <td>0 - Sin Asignar</td>\n",
       "      <td>3</td>\n",
       "      <td>5</td>\n",
       "      <td>1 semestre</td>\n",
       "      <td>2016</td>\n",
       "      <td>Junio</td>\n",
       "    </tr>\n",
       "    <tr>\n",
       "      <th>3</th>\n",
       "      <td>GDDTSR-5942488006</td>\n",
       "      <td>2016-04-28</td>\n",
       "      <td>320</td>\n",
       "      <td>40</td>\n",
       "      <td>Sistema</td>\n",
       "      <td>Solicitud</td>\n",
       "      <td>0 - Sin Clasificar</td>\n",
       "      <td>0 - Sin Asignar</td>\n",
       "      <td>9</td>\n",
       "      <td>5</td>\n",
       "      <td>1 semestre</td>\n",
       "      <td>2016</td>\n",
       "      <td>Abril</td>\n",
       "    </tr>\n",
       "    <tr>\n",
       "      <th>4</th>\n",
       "      <td>GDLEER-0042524120</td>\n",
       "      <td>2016-06-03</td>\n",
       "      <td>1842</td>\n",
       "      <td>31</td>\n",
       "      <td>Software</td>\n",
       "      <td>Problema</td>\n",
       "      <td>2 - Normal</td>\n",
       "      <td>0 - Sin Asignar</td>\n",
       "      <td>0</td>\n",
       "      <td>5</td>\n",
       "      <td>1 semestre</td>\n",
       "      <td>2016</td>\n",
       "      <td>Junio</td>\n",
       "    </tr>\n",
       "  </tbody>\n",
       "</table>\n",
       "</div>"
      ],
      "text/plain": [
       "           id_ticket       fecha  id_empleado  id_agente     categoría  \\\n",
       "0  GDDENR-5042564453  2016-07-13         1735          4  Acceso/Login   \n",
       "1  GDDENR-8042508060  2016-05-18         1566         10  Acceso/Login   \n",
       "2  GDDESR-1342539995  2016-06-18          569         29       Sistema   \n",
       "3  GDDTSR-5942488006  2016-04-28          320         40       Sistema   \n",
       "4  GDLEER-0042524120  2016-06-03         1842         31      Software   \n",
       "\n",
       "        tipo           severidad        prioridad  días_resolución  \\\n",
       "0   Problema  0 - Sin Clasificar  0 - Sin Asignar                0   \n",
       "1   Problema  0 - Sin Clasificar  0 - Sin Asignar                0   \n",
       "2   Problema  0 - Sin Clasificar  0 - Sin Asignar                3   \n",
       "3  Solicitud  0 - Sin Clasificar  0 - Sin Asignar                9   \n",
       "4   Problema          2 - Normal  0 - Sin Asignar                0   \n",
       "\n",
       "   satisfacción     semestre   año    mes  \n",
       "0             5  2º semestre  2016  Julio  \n",
       "1             5   1 semestre  2016   Mayo  \n",
       "2             5   1 semestre  2016  Junio  \n",
       "3             5   1 semestre  2016  Abril  \n",
       "4             5   1 semestre  2016  Junio  "
      ]
     },
     "execution_count": 3,
     "metadata": {},
     "output_type": "execute_result"
    }
   ],
   "source": [
    "# cargamos el dataset\n",
    "df_tickets = pd.read_csv('../datos/historico_tickets_limpio_pandas.csv', index_col=0)\n",
    "df_tickets.head()"
   ]
  },
  {
   "cell_type": "code",
   "execution_count": 4,
   "metadata": {},
   "outputs": [
    {
     "name": "stdout",
     "output_type": "stream",
     "text": [
      "Tiene 97386 filas y 13 columnas\n"
     ]
    }
   ],
   "source": [
    "print(f'Tiene {df_tickets.shape[0]} filas y {df_tickets.shape[1]} columnas')"
   ]
  },
  {
   "attachments": {},
   "cell_type": "markdown",
   "metadata": {},
   "source": [
    "- ¿Cuál es el porcentaje de valores nulos en cada columna? Presenta los resultados en un dataframe, donde las columnas sean el nombre de las variables y el porcentaje de nulos"
   ]
  },
  {
   "cell_type": "code",
   "execution_count": 5,
   "metadata": {},
   "outputs": [
    {
     "name": "stdout",
     "output_type": "stream",
     "text": [
      "A continuación mostramos el porcentaje de nulos para las columnas \n",
      "id_ticket          0.0\n",
      "fecha              0.0\n",
      "id_empleado        0.0\n",
      "id_agente          0.0\n",
      "categoría          0.0\n",
      "tipo               0.0\n",
      "severidad          0.0\n",
      "prioridad          0.0\n",
      "días_resolución    0.0\n",
      "satisfacción       0.0\n",
      "semestre           0.0\n",
      "año                0.0\n",
      "mes                0.0\n",
      "dtype: float64\n"
     ]
    }
   ],
   "source": [
    "print(f'A continuación mostramos el porcentaje de nulos para las columnas \\n{df_tickets.isnull().sum()/df_tickets.shape[0]*100}')\n"
   ]
  },
  {
   "attachments": {},
   "cell_type": "markdown",
   "metadata": {},
   "source": [
    "- ¿Qué tipos de datos hay en cada columna?"
   ]
  },
  {
   "cell_type": "code",
   "execution_count": 6,
   "metadata": {},
   "outputs": [
    {
     "name": "stdout",
     "output_type": "stream",
     "text": [
      "A continuación mostramos el tipo de datos de cada columna: \n",
      "id_ticket          object\n",
      "fecha              object\n",
      "id_empleado         int64\n",
      "id_agente           int64\n",
      "categoría          object\n",
      "tipo               object\n",
      "severidad          object\n",
      "prioridad          object\n",
      "días_resolución     int64\n",
      "satisfacción        int64\n",
      "semestre           object\n",
      "año                 int64\n",
      "mes                object\n",
      "dtype: object\n"
     ]
    }
   ],
   "source": [
    "print(f'A continuación mostramos el tipo de datos de cada columna: \\n{df_tickets.dtypes}')"
   ]
  },
  {
   "attachments": {},
   "cell_type": "markdown",
   "metadata": {},
   "source": [
    "- Extraed la información general del dataframe."
   ]
  },
  {
   "cell_type": "code",
   "execution_count": 7,
   "metadata": {},
   "outputs": [
    {
     "name": "stdout",
     "output_type": "stream",
     "text": [
      "A continuación mostramos algunos datos geneales del dataframe:\n",
      "<class 'pandas.core.frame.DataFrame'>\n",
      "Int64Index: 97386 entries, 0 to 29087\n",
      "Data columns (total 13 columns):\n",
      " #   Column           Non-Null Count  Dtype \n",
      "---  ------           --------------  ----- \n",
      " 0   id_ticket        97386 non-null  object\n",
      " 1   fecha            97386 non-null  object\n",
      " 2   id_empleado      97386 non-null  int64 \n",
      " 3   id_agente        97386 non-null  int64 \n",
      " 4   categoría        97386 non-null  object\n",
      " 5   tipo             97386 non-null  object\n",
      " 6   severidad        97386 non-null  object\n",
      " 7   prioridad        97386 non-null  object\n",
      " 8   días_resolución  97386 non-null  int64 \n",
      " 9   satisfacción     97386 non-null  int64 \n",
      " 10  semestre         97386 non-null  object\n",
      " 11  año              97386 non-null  int64 \n",
      " 12  mes              97386 non-null  object\n",
      "dtypes: int64(5), object(8)\n",
      "memory usage: 10.4+ MB\n"
     ]
    }
   ],
   "source": [
    "print('A continuación mostramos algunos datos geneales del dataframe:')\n",
    "df_tickets.info()"
   ]
  },
  {
   "attachments": {},
   "cell_type": "markdown",
   "metadata": {},
   "source": [
    "2. Cread dos dataframes nuevos, uno que incluya solo las variables categóricas y otro que incluya solo las variables numéricas."
   ]
  },
  {
   "cell_type": "code",
   "execution_count": 8,
   "metadata": {},
   "outputs": [
    {
     "name": "stdout",
     "output_type": "stream",
     "text": [
      "A continuación extraemos en un nuevo dataframe las variables categóricas:\n"
     ]
    },
    {
     "data": {
      "text/html": [
       "<div>\n",
       "<style scoped>\n",
       "    .dataframe tbody tr th:only-of-type {\n",
       "        vertical-align: middle;\n",
       "    }\n",
       "\n",
       "    .dataframe tbody tr th {\n",
       "        vertical-align: top;\n",
       "    }\n",
       "\n",
       "    .dataframe thead th {\n",
       "        text-align: right;\n",
       "    }\n",
       "</style>\n",
       "<table border=\"1\" class=\"dataframe\">\n",
       "  <thead>\n",
       "    <tr style=\"text-align: right;\">\n",
       "      <th></th>\n",
       "      <th>id_ticket</th>\n",
       "      <th>fecha</th>\n",
       "      <th>categoría</th>\n",
       "      <th>tipo</th>\n",
       "      <th>severidad</th>\n",
       "      <th>prioridad</th>\n",
       "      <th>semestre</th>\n",
       "      <th>mes</th>\n",
       "    </tr>\n",
       "  </thead>\n",
       "  <tbody>\n",
       "    <tr>\n",
       "      <th>2987</th>\n",
       "      <td>GHLTNR-0043655790</td>\n",
       "      <td>2019-07-09</td>\n",
       "      <td>Acceso/Login</td>\n",
       "      <td>Solicitud</td>\n",
       "      <td>2 - Normal</td>\n",
       "      <td>3 - Alta</td>\n",
       "      <td>2º semestre</td>\n",
       "      <td>Julio</td>\n",
       "    </tr>\n",
       "    <tr>\n",
       "      <th>14192</th>\n",
       "      <td>SMLTNR-9243192156</td>\n",
       "      <td>2018-04-02</td>\n",
       "      <td>Acceso/Login</td>\n",
       "      <td>Solicitud</td>\n",
       "      <td>2 - Normal</td>\n",
       "      <td>2 - Media</td>\n",
       "      <td>1 semestre</td>\n",
       "      <td>Abril</td>\n",
       "    </tr>\n",
       "    <tr>\n",
       "      <th>19076</th>\n",
       "      <td>THLTNR-0043499191</td>\n",
       "      <td>2019-02-03</td>\n",
       "      <td>Acceso/Login</td>\n",
       "      <td>Solicitud</td>\n",
       "      <td>2 - Normal</td>\n",
       "      <td>3 - Alta</td>\n",
       "      <td>1 semestre</td>\n",
       "      <td>Febrero</td>\n",
       "    </tr>\n",
       "    <tr>\n",
       "      <th>834</th>\n",
       "      <td>GDLTET-8643625538</td>\n",
       "      <td>2019-06-09</td>\n",
       "      <td>Software</td>\n",
       "      <td>Solicitud</td>\n",
       "      <td>4 - Crítico</td>\n",
       "      <td>0 - Sin Asignar</td>\n",
       "      <td>1 semestre</td>\n",
       "      <td>Junio</td>\n",
       "    </tr>\n",
       "    <tr>\n",
       "      <th>21730</th>\n",
       "      <td>SMLTSR-3844155206</td>\n",
       "      <td>2020-11-20</td>\n",
       "      <td>Sistema</td>\n",
       "      <td>Solicitud</td>\n",
       "      <td>2 - Normal</td>\n",
       "      <td>2 - Media</td>\n",
       "      <td>2º semestre</td>\n",
       "      <td>Noviembre</td>\n",
       "    </tr>\n",
       "  </tbody>\n",
       "</table>\n",
       "</div>"
      ],
      "text/plain": [
       "               id_ticket       fecha     categoría       tipo    severidad  \\\n",
       "2987   GHLTNR-0043655790  2019-07-09  Acceso/Login  Solicitud   2 - Normal   \n",
       "14192  SMLTNR-9243192156  2018-04-02  Acceso/Login  Solicitud   2 - Normal   \n",
       "19076  THLTNR-0043499191  2019-02-03  Acceso/Login  Solicitud   2 - Normal   \n",
       "834    GDLTET-8643625538  2019-06-09      Software  Solicitud  4 - Crítico   \n",
       "21730  SMLTSR-3844155206  2020-11-20       Sistema  Solicitud   2 - Normal   \n",
       "\n",
       "             prioridad     semestre        mes  \n",
       "2987          3 - Alta  2º semestre      Julio  \n",
       "14192        2 - Media   1 semestre      Abril  \n",
       "19076         3 - Alta   1 semestre    Febrero  \n",
       "834    0 - Sin Asignar   1 semestre      Junio  \n",
       "21730        2 - Media  2º semestre  Noviembre  "
      ]
     },
     "execution_count": 8,
     "metadata": {},
     "output_type": "execute_result"
    }
   ],
   "source": [
    "print('A continuación extraemos en un nuevo dataframe las variables categóricas:')\n",
    "df_categoricas = df_tickets.select_dtypes(include= 'object')\n",
    "df_categoricas.sample(5)"
   ]
  },
  {
   "cell_type": "code",
   "execution_count": 9,
   "metadata": {},
   "outputs": [
    {
     "name": "stdout",
     "output_type": "stream",
     "text": [
      "A continuación extraemos en un nuevo dataframe las variables numéricas:\n"
     ]
    },
    {
     "data": {
      "text/html": [
       "<div>\n",
       "<style scoped>\n",
       "    .dataframe tbody tr th:only-of-type {\n",
       "        vertical-align: middle;\n",
       "    }\n",
       "\n",
       "    .dataframe tbody tr th {\n",
       "        vertical-align: top;\n",
       "    }\n",
       "\n",
       "    .dataframe thead th {\n",
       "        text-align: right;\n",
       "    }\n",
       "</style>\n",
       "<table border=\"1\" class=\"dataframe\">\n",
       "  <thead>\n",
       "    <tr style=\"text-align: right;\">\n",
       "      <th></th>\n",
       "      <th>id_empleado</th>\n",
       "      <th>id_agente</th>\n",
       "      <th>días_resolución</th>\n",
       "      <th>satisfacción</th>\n",
       "      <th>año</th>\n",
       "    </tr>\n",
       "  </thead>\n",
       "  <tbody>\n",
       "    <tr>\n",
       "      <th>17263</th>\n",
       "      <td>540</td>\n",
       "      <td>5</td>\n",
       "      <td>5</td>\n",
       "      <td>4</td>\n",
       "      <td>2018</td>\n",
       "    </tr>\n",
       "    <tr>\n",
       "      <th>5268</th>\n",
       "      <td>546</td>\n",
       "      <td>25</td>\n",
       "      <td>3</td>\n",
       "      <td>5</td>\n",
       "      <td>2016</td>\n",
       "    </tr>\n",
       "    <tr>\n",
       "      <th>7198</th>\n",
       "      <td>9</td>\n",
       "      <td>26</td>\n",
       "      <td>8</td>\n",
       "      <td>5</td>\n",
       "      <td>2020</td>\n",
       "    </tr>\n",
       "    <tr>\n",
       "      <th>9553</th>\n",
       "      <td>1171</td>\n",
       "      <td>23</td>\n",
       "      <td>4</td>\n",
       "      <td>4</td>\n",
       "      <td>2020</td>\n",
       "    </tr>\n",
       "    <tr>\n",
       "      <th>17605</th>\n",
       "      <td>695</td>\n",
       "      <td>41</td>\n",
       "      <td>8</td>\n",
       "      <td>4</td>\n",
       "      <td>2018</td>\n",
       "    </tr>\n",
       "  </tbody>\n",
       "</table>\n",
       "</div>"
      ],
      "text/plain": [
       "       id_empleado  id_agente  días_resolución  satisfacción   año\n",
       "17263          540          5                5             4  2018\n",
       "5268           546         25                3             5  2016\n",
       "7198             9         26                8             5  2020\n",
       "9553          1171         23                4             4  2020\n",
       "17605          695         41                8             4  2018"
      ]
     },
     "execution_count": 9,
     "metadata": {},
     "output_type": "execute_result"
    }
   ],
   "source": [
    "print('A continuación extraemos en un nuevo dataframe las variables numéricas:')\n",
    "df_numericas = df_tickets.select_dtypes(include= 'int')\n",
    "df_numericas.sample(5)"
   ]
  },
  {
   "attachments": {},
   "cell_type": "markdown",
   "metadata": {},
   "source": [
    "- ¿Cuáles son los principales estádisticos de los dataframes?"
   ]
  },
  {
   "cell_type": "code",
   "execution_count": 10,
   "metadata": {},
   "outputs": [
    {
     "name": "stdout",
     "output_type": "stream",
     "text": [
      "A continuación mostramos los principales estadísticos de las variables categóricas:\n"
     ]
    },
    {
     "data": {
      "text/html": [
       "<div>\n",
       "<style scoped>\n",
       "    .dataframe tbody tr th:only-of-type {\n",
       "        vertical-align: middle;\n",
       "    }\n",
       "\n",
       "    .dataframe tbody tr th {\n",
       "        vertical-align: top;\n",
       "    }\n",
       "\n",
       "    .dataframe thead th {\n",
       "        text-align: right;\n",
       "    }\n",
       "</style>\n",
       "<table border=\"1\" class=\"dataframe\">\n",
       "  <thead>\n",
       "    <tr style=\"text-align: right;\">\n",
       "      <th></th>\n",
       "      <th>count</th>\n",
       "      <th>unique</th>\n",
       "      <th>top</th>\n",
       "      <th>freq</th>\n",
       "    </tr>\n",
       "  </thead>\n",
       "  <tbody>\n",
       "    <tr>\n",
       "      <th>id_ticket</th>\n",
       "      <td>97386</td>\n",
       "      <td>97386</td>\n",
       "      <td>GDDENR-5042564453</td>\n",
       "      <td>1</td>\n",
       "    </tr>\n",
       "    <tr>\n",
       "      <th>fecha</th>\n",
       "      <td>97386</td>\n",
       "      <td>1827</td>\n",
       "      <td>2020-02-20</td>\n",
       "      <td>105</td>\n",
       "    </tr>\n",
       "    <tr>\n",
       "      <th>categoría</th>\n",
       "      <td>97386</td>\n",
       "      <td>4</td>\n",
       "      <td>Sistema</td>\n",
       "      <td>38961</td>\n",
       "    </tr>\n",
       "    <tr>\n",
       "      <th>tipo</th>\n",
       "      <td>97386</td>\n",
       "      <td>2</td>\n",
       "      <td>Solicitud</td>\n",
       "      <td>73138</td>\n",
       "    </tr>\n",
       "    <tr>\n",
       "      <th>severidad</th>\n",
       "      <td>97386</td>\n",
       "      <td>5</td>\n",
       "      <td>2 - Normal</td>\n",
       "      <td>88555</td>\n",
       "    </tr>\n",
       "    <tr>\n",
       "      <th>prioridad</th>\n",
       "      <td>97386</td>\n",
       "      <td>4</td>\n",
       "      <td>3 - Alta</td>\n",
       "      <td>35511</td>\n",
       "    </tr>\n",
       "    <tr>\n",
       "      <th>semestre</th>\n",
       "      <td>97386</td>\n",
       "      <td>2</td>\n",
       "      <td>2º semestre</td>\n",
       "      <td>49876</td>\n",
       "    </tr>\n",
       "    <tr>\n",
       "      <th>mes</th>\n",
       "      <td>97386</td>\n",
       "      <td>12</td>\n",
       "      <td>Octubre</td>\n",
       "      <td>8487</td>\n",
       "    </tr>\n",
       "  </tbody>\n",
       "</table>\n",
       "</div>"
      ],
      "text/plain": [
       "           count unique                top   freq\n",
       "id_ticket  97386  97386  GDDENR-5042564453      1\n",
       "fecha      97386   1827         2020-02-20    105\n",
       "categoría  97386      4            Sistema  38961\n",
       "tipo       97386      2          Solicitud  73138\n",
       "severidad  97386      5         2 - Normal  88555\n",
       "prioridad  97386      4           3 - Alta  35511\n",
       "semestre   97386      2        2º semestre  49876\n",
       "mes        97386     12            Octubre   8487"
      ]
     },
     "execution_count": 10,
     "metadata": {},
     "output_type": "execute_result"
    }
   ],
   "source": [
    "print('A continuación mostramos los principales estadísticos de las variables categóricas:')\n",
    "df_categoricas.describe().T"
   ]
  },
  {
   "cell_type": "code",
   "execution_count": 11,
   "metadata": {},
   "outputs": [
    {
     "name": "stdout",
     "output_type": "stream",
     "text": [
      "A continuación mostramos los principales estadísticos de las variables numéricas:\n"
     ]
    },
    {
     "data": {
      "text/html": [
       "<div>\n",
       "<style scoped>\n",
       "    .dataframe tbody tr th:only-of-type {\n",
       "        vertical-align: middle;\n",
       "    }\n",
       "\n",
       "    .dataframe tbody tr th {\n",
       "        vertical-align: top;\n",
       "    }\n",
       "\n",
       "    .dataframe thead th {\n",
       "        text-align: right;\n",
       "    }\n",
       "</style>\n",
       "<table border=\"1\" class=\"dataframe\">\n",
       "  <thead>\n",
       "    <tr style=\"text-align: right;\">\n",
       "      <th></th>\n",
       "      <th>count</th>\n",
       "      <th>mean</th>\n",
       "      <th>std</th>\n",
       "      <th>min</th>\n",
       "      <th>25%</th>\n",
       "      <th>50%</th>\n",
       "      <th>75%</th>\n",
       "      <th>max</th>\n",
       "    </tr>\n",
       "  </thead>\n",
       "  <tbody>\n",
       "    <tr>\n",
       "      <th>id_empleado</th>\n",
       "      <td>97386.0</td>\n",
       "      <td>999.160639</td>\n",
       "      <td>577.407222</td>\n",
       "      <td>1.0</td>\n",
       "      <td>500.0</td>\n",
       "      <td>999.0</td>\n",
       "      <td>1499.0</td>\n",
       "      <td>2000.0</td>\n",
       "    </tr>\n",
       "    <tr>\n",
       "      <th>id_agente</th>\n",
       "      <td>97386.0</td>\n",
       "      <td>25.468856</td>\n",
       "      <td>14.449455</td>\n",
       "      <td>1.0</td>\n",
       "      <td>13.0</td>\n",
       "      <td>26.0</td>\n",
       "      <td>38.0</td>\n",
       "      <td>50.0</td>\n",
       "    </tr>\n",
       "    <tr>\n",
       "      <th>días_resolución</th>\n",
       "      <td>97386.0</td>\n",
       "      <td>4.552749</td>\n",
       "      <td>4.365432</td>\n",
       "      <td>0.0</td>\n",
       "      <td>0.0</td>\n",
       "      <td>4.0</td>\n",
       "      <td>7.0</td>\n",
       "      <td>21.0</td>\n",
       "    </tr>\n",
       "    <tr>\n",
       "      <th>satisfacción</th>\n",
       "      <td>97386.0</td>\n",
       "      <td>4.100990</td>\n",
       "      <td>1.257093</td>\n",
       "      <td>1.0</td>\n",
       "      <td>4.0</td>\n",
       "      <td>5.0</td>\n",
       "      <td>5.0</td>\n",
       "      <td>5.0</td>\n",
       "    </tr>\n",
       "    <tr>\n",
       "      <th>año</th>\n",
       "      <td>97386.0</td>\n",
       "      <td>2018.399164</td>\n",
       "      <td>1.393095</td>\n",
       "      <td>2016.0</td>\n",
       "      <td>2017.0</td>\n",
       "      <td>2019.0</td>\n",
       "      <td>2020.0</td>\n",
       "      <td>2020.0</td>\n",
       "    </tr>\n",
       "  </tbody>\n",
       "</table>\n",
       "</div>"
      ],
      "text/plain": [
       "                   count         mean         std     min     25%     50%  \\\n",
       "id_empleado      97386.0   999.160639  577.407222     1.0   500.0   999.0   \n",
       "id_agente        97386.0    25.468856   14.449455     1.0    13.0    26.0   \n",
       "días_resolución  97386.0     4.552749    4.365432     0.0     0.0     4.0   \n",
       "satisfacción     97386.0     4.100990    1.257093     1.0     4.0     5.0   \n",
       "año              97386.0  2018.399164    1.393095  2016.0  2017.0  2019.0   \n",
       "\n",
       "                    75%     max  \n",
       "id_empleado      1499.0  2000.0  \n",
       "id_agente          38.0    50.0  \n",
       "días_resolución     7.0    21.0  \n",
       "satisfacción        5.0     5.0  \n",
       "año              2020.0  2020.0  "
      ]
     },
     "execution_count": 11,
     "metadata": {},
     "output_type": "execute_result"
    }
   ],
   "source": [
    "print('A continuación mostramos los principales estadísticos de las variables numéricas:')\n",
    "df_numericas.describe().T"
   ]
  },
  {
   "attachments": {},
   "cell_type": "markdown",
   "metadata": {},
   "source": [
    "- Extraed los valores únicos."
   ]
  },
  {
   "cell_type": "code",
   "execution_count": 12,
   "metadata": {},
   "outputs": [
    {
     "name": "stdout",
     "output_type": "stream",
     "text": [
      "A continuación extraemos los valores únicos de las variables categóricas\n",
      "\n",
      "------------------------------------------------------------\n",
      "\n",
      "En la columna id_ticket tenemos los siguientes valores unicos:\n",
      "['GDDENR-5042564453' 'GDDENR-8042508060' 'GDDESR-1342539995' ...\n",
      " 'TWRTSR-9643846768' 'TWRTSR-9944138906' 'TWRTST-8643986162']\n",
      "\n",
      "------------------------------------------------------------\n",
      "\n",
      "En la columna fecha tenemos los siguientes valores unicos:\n",
      "['2016-07-13' '2016-05-18' '2016-06-18' ... '2020-06-03' '2020-06-12'\n",
      " '2020-02-19']\n",
      "\n",
      "------------------------------------------------------------\n",
      "\n",
      "En la columna categoría tenemos los siguientes valores unicos:\n",
      "['Acceso/Login' 'Sistema' 'Software' 'Hardware']\n",
      "\n",
      "------------------------------------------------------------\n",
      "\n",
      "En la columna tipo tenemos los siguientes valores unicos:\n",
      "['Problema' 'Solicitud']\n",
      "\n",
      "------------------------------------------------------------\n",
      "\n",
      "En la columna severidad tenemos los siguientes valores unicos:\n",
      "['0 - Sin Clasificar' '2 - Normal' '4 - Crítico' '3 - Mayor' '1 - Menor']\n",
      "\n",
      "------------------------------------------------------------\n",
      "\n",
      "En la columna prioridad tenemos los siguientes valores unicos:\n",
      "['0 - Sin Asignar' '3 - Alta' '2 - Media' '1 - Baja']\n",
      "\n",
      "------------------------------------------------------------\n",
      "\n",
      "En la columna semestre tenemos los siguientes valores unicos:\n",
      "['2º semestre' '1 semestre']\n",
      "\n",
      "------------------------------------------------------------\n",
      "\n",
      "En la columna mes tenemos los siguientes valores unicos:\n",
      "['Julio' 'Mayo' 'Junio' 'Abril' 'Agosto' 'Marzo' 'Enero' 'Septiembre'\n",
      " 'Octubre' 'Diciembre' 'Noviembre' 'Febrero']\n"
     ]
    }
   ],
   "source": [
    "print('A continuación extraemos los valores únicos de las variables categóricas')\n",
    "for col in df_categoricas.columns:\n",
    "    print('\\n------------------------------------------------------------\\n')\n",
    "    print(f'En la columna {col} tenemos los siguientes valores unicos:')\n",
    "    print(df_categoricas[col].unique())\n"
   ]
  },
  {
   "attachments": {},
   "cell_type": "markdown",
   "metadata": {},
   "source": [
    "BONUS presenta los resultados en un dataframe. Os deberá quedar algo como esto:"
   ]
  },
  {
   "cell_type": "code",
   "execution_count": 13,
   "metadata": {},
   "outputs": [
    {
     "data": {
      "text/plain": [
       "Index(['id_ticket', 'fecha', 'categoría', 'tipo', 'severidad', 'prioridad',\n",
       "       'semestre', 'mes'],\n",
       "      dtype='object')"
      ]
     },
     "execution_count": 13,
     "metadata": {},
     "output_type": "execute_result"
    }
   ],
   "source": [
    "# creamos una lista con las columnas\n",
    "lista_columnas = df_categoricas.columns\n",
    "lista_columnas"
   ]
  },
  {
   "cell_type": "code",
   "execution_count": 14,
   "metadata": {},
   "outputs": [],
   "source": [
    "# extraemos en otra lista los valores únicos de cada columna\n",
    "lista_resultados = []\n",
    "for col in df_categoricas.columns:\n",
    "    lista_resultados.append(list(df_categoricas[col].unique()))\n",
    "  "
   ]
  },
  {
   "cell_type": "code",
   "execution_count": 15,
   "metadata": {},
   "outputs": [
    {
     "data": {
      "text/html": [
       "<div>\n",
       "<style scoped>\n",
       "    .dataframe tbody tr th:only-of-type {\n",
       "        vertical-align: middle;\n",
       "    }\n",
       "\n",
       "    .dataframe tbody tr th {\n",
       "        vertical-align: top;\n",
       "    }\n",
       "\n",
       "    .dataframe thead th {\n",
       "        text-align: right;\n",
       "    }\n",
       "</style>\n",
       "<table border=\"1\" class=\"dataframe\">\n",
       "  <thead>\n",
       "    <tr style=\"text-align: right;\">\n",
       "      <th></th>\n",
       "      <th>0</th>\n",
       "      <th>1</th>\n",
       "    </tr>\n",
       "  </thead>\n",
       "  <tbody>\n",
       "    <tr>\n",
       "      <th>0</th>\n",
       "      <td>id_ticket</td>\n",
       "      <td>[GDDENR-5042564453, GDDENR-8042508060, GDDESR-...</td>\n",
       "    </tr>\n",
       "    <tr>\n",
       "      <th>1</th>\n",
       "      <td>fecha</td>\n",
       "      <td>[2016-07-13, 2016-05-18, 2016-06-18, 2016-04-2...</td>\n",
       "    </tr>\n",
       "    <tr>\n",
       "      <th>2</th>\n",
       "      <td>categoría</td>\n",
       "      <td>[Acceso/Login, Sistema, Software, Hardware]</td>\n",
       "    </tr>\n",
       "    <tr>\n",
       "      <th>3</th>\n",
       "      <td>tipo</td>\n",
       "      <td>[Problema, Solicitud]</td>\n",
       "    </tr>\n",
       "    <tr>\n",
       "      <th>4</th>\n",
       "      <td>severidad</td>\n",
       "      <td>[0 - Sin Clasificar, 2 - Normal, 4 - Crítico, ...</td>\n",
       "    </tr>\n",
       "    <tr>\n",
       "      <th>5</th>\n",
       "      <td>prioridad</td>\n",
       "      <td>[0 - Sin Asignar, 3 - Alta, 2 - Media, 1 - Baja]</td>\n",
       "    </tr>\n",
       "    <tr>\n",
       "      <th>6</th>\n",
       "      <td>semestre</td>\n",
       "      <td>[2º semestre, 1 semestre]</td>\n",
       "    </tr>\n",
       "    <tr>\n",
       "      <th>7</th>\n",
       "      <td>mes</td>\n",
       "      <td>[Julio, Mayo, Junio, Abril, Agosto, Marzo, Ene...</td>\n",
       "    </tr>\n",
       "  </tbody>\n",
       "</table>\n",
       "</div>"
      ],
      "text/plain": [
       "           0                                                  1\n",
       "0  id_ticket  [GDDENR-5042564453, GDDENR-8042508060, GDDESR-...\n",
       "1      fecha  [2016-07-13, 2016-05-18, 2016-06-18, 2016-04-2...\n",
       "2  categoría        [Acceso/Login, Sistema, Software, Hardware]\n",
       "3       tipo                              [Problema, Solicitud]\n",
       "4  severidad  [0 - Sin Clasificar, 2 - Normal, 4 - Crítico, ...\n",
       "5  prioridad   [0 - Sin Asignar, 3 - Alta, 2 - Media, 1 - Baja]\n",
       "6   semestre                          [2º semestre, 1 semestre]\n",
       "7        mes  [Julio, Mayo, Junio, Abril, Agosto, Marzo, Ene..."
      ]
     },
     "execution_count": 15,
     "metadata": {},
     "output_type": "execute_result"
    }
   ],
   "source": [
    "# a partir de ambas listas creamos un diccionario y con éste obtenemos el dataframe\n",
    "diccionario = dict(zip(lista_columnas, lista_resultados))\n",
    "df_union = pd.DataFrame(diccionario.items())\n",
    "df_union"
   ]
  },
  {
   "cell_type": "code",
   "execution_count": 16,
   "metadata": {},
   "outputs": [
    {
     "data": {
      "text/html": [
       "<div>\n",
       "<style scoped>\n",
       "    .dataframe tbody tr th:only-of-type {\n",
       "        vertical-align: middle;\n",
       "    }\n",
       "\n",
       "    .dataframe tbody tr th {\n",
       "        vertical-align: top;\n",
       "    }\n",
       "\n",
       "    .dataframe thead th {\n",
       "        text-align: right;\n",
       "    }\n",
       "</style>\n",
       "<table border=\"1\" class=\"dataframe\">\n",
       "  <thead>\n",
       "    <tr style=\"text-align: right;\">\n",
       "      <th></th>\n",
       "      <th>variable</th>\n",
       "      <th>n_unicos</th>\n",
       "    </tr>\n",
       "  </thead>\n",
       "  <tbody>\n",
       "    <tr>\n",
       "      <th>0</th>\n",
       "      <td>id_ticket</td>\n",
       "      <td>[GDDENR-5042564453, GDDENR-8042508060, GDDESR-...</td>\n",
       "    </tr>\n",
       "    <tr>\n",
       "      <th>1</th>\n",
       "      <td>fecha</td>\n",
       "      <td>[2016-07-13, 2016-05-18, 2016-06-18, 2016-04-2...</td>\n",
       "    </tr>\n",
       "    <tr>\n",
       "      <th>2</th>\n",
       "      <td>categoría</td>\n",
       "      <td>[Acceso/Login, Sistema, Software, Hardware]</td>\n",
       "    </tr>\n",
       "    <tr>\n",
       "      <th>3</th>\n",
       "      <td>tipo</td>\n",
       "      <td>[Problema, Solicitud]</td>\n",
       "    </tr>\n",
       "    <tr>\n",
       "      <th>4</th>\n",
       "      <td>severidad</td>\n",
       "      <td>[0 - Sin Clasificar, 2 - Normal, 4 - Crítico, ...</td>\n",
       "    </tr>\n",
       "    <tr>\n",
       "      <th>5</th>\n",
       "      <td>prioridad</td>\n",
       "      <td>[0 - Sin Asignar, 3 - Alta, 2 - Media, 1 - Baja]</td>\n",
       "    </tr>\n",
       "    <tr>\n",
       "      <th>6</th>\n",
       "      <td>semestre</td>\n",
       "      <td>[2º semestre, 1 semestre]</td>\n",
       "    </tr>\n",
       "    <tr>\n",
       "      <th>7</th>\n",
       "      <td>mes</td>\n",
       "      <td>[Julio, Mayo, Junio, Abril, Agosto, Marzo, Ene...</td>\n",
       "    </tr>\n",
       "  </tbody>\n",
       "</table>\n",
       "</div>"
      ],
      "text/plain": [
       "    variable                                           n_unicos\n",
       "0  id_ticket  [GDDENR-5042564453, GDDENR-8042508060, GDDESR-...\n",
       "1      fecha  [2016-07-13, 2016-05-18, 2016-06-18, 2016-04-2...\n",
       "2  categoría        [Acceso/Login, Sistema, Software, Hardware]\n",
       "3       tipo                              [Problema, Solicitud]\n",
       "4  severidad  [0 - Sin Clasificar, 2 - Normal, 4 - Crítico, ...\n",
       "5  prioridad   [0 - Sin Asignar, 3 - Alta, 2 - Media, 1 - Baja]\n",
       "6   semestre                          [2º semestre, 1 semestre]\n",
       "7        mes  [Julio, Mayo, Junio, Abril, Agosto, Marzo, Ene..."
      ]
     },
     "execution_count": 16,
     "metadata": {},
     "output_type": "execute_result"
    }
   ],
   "source": [
    "# renombramos las columnas\n",
    "df_union.rename(columns = {0: 'variable', 1: 'n_unicos'}, inplace = True)\n",
    "df_union"
   ]
  },
  {
   "attachments": {},
   "cell_type": "markdown",
   "metadata": {},
   "source": [
    "## Conclusiones\n",
    "De qué nos sirven estos números y dataframe? Extraed conclusiones de ellos."
   ]
  },
  {
   "attachments": {},
   "cell_type": "markdown",
   "metadata": {},
   "source": [
    "Habiendo extraído los datos para analizarlos y hemos llegado a la conclusión de que la columna id_ticket tiene muchos datos y creemos que no resulta util para analizarla como categórica. Por otro lado, la columna fecha contiene las columnas año, mes y semestre, por lo que nos sobraría como categórica, puesto que nos bastaría con año, mes y semestre a la hora de valorar los cambios en el tiempo.\n",
    "En el caso del dataframe con datos numéricos, la columna satisfacción, podríamos convertirla en categóricas si queremos obtener información más clara de las mismas.\n",
    "La columna fecha, al estar en formato object, sería interesante pasarlo a datetime."
   ]
  }
 ],
 "metadata": {
  "kernelspec": {
   "display_name": "base",
   "language": "python",
   "name": "python3"
  },
  "language_info": {
   "codemirror_mode": {
    "name": "ipython",
    "version": 3
   },
   "file_extension": ".py",
   "mimetype": "text/x-python",
   "name": "python",
   "nbconvert_exporter": "python",
   "pygments_lexer": "ipython3",
   "version": "3.10.9"
  },
  "orig_nbformat": 4
 },
 "nbformat": 4,
 "nbformat_minor": 2
}
