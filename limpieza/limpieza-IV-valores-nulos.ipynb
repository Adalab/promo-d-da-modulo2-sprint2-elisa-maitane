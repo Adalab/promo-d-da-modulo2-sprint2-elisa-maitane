{
 "cells": [
  {
   "attachments": {},
   "cell_type": "markdown",
   "metadata": {},
   "source": [
    "# **Ejercicios de pair programming Módulo 2 - Sprint 2**\n",
    "## **Limpieza IV. Valores Nulos**\n",
    "---"
   ]
  },
  {
   "cell_type": "code",
   "execution_count": 1,
   "metadata": {},
   "outputs": [],
   "source": [
    "import pandas as pd\n",
    "import numpy as np\n",
    "import os\n",
    "if 'limpieza' not in os.getcwd():\n",
    "    os.chdir('limpieza')"
   ]
  },
  {
   "attachments": {},
   "cell_type": "markdown",
   "metadata": {},
   "source": [
    "### Hipótesis  \n",
    "\n",
    "1. La edad, el trabajo, el estado civil, la educación, la situación de deuda y la forma de contacto pueden influir en la probabilidad de que un cliente acepte la oferta.  \n",
    "\n",
    "2. El número de veces que se ha contactado a un cliente en el pasado (campo `campaign`), el número de días que han pasado desde el último contacto (campo `pdays`), y el resultado de la campaña anterior (campo `poutcome`) pueden afectar la respuesta del cliente a una nueva oferta.  \n",
    "\n",
    "3. Las variables económicas (tales como el índice de precios al consumidor (`cons.price.idx`), la tasa de variación del empleo (`emp.var.rate`), etc.) pueden influir en la probabilidad de que un cliente acepte la oferta.  \n",
    "\n",
    "4. Los clientes que ya tienen una hipoteca (`housing`) o un préstamo (`loan`) pueden ser menos propensos a aceptar una nueva oferta, ya que podrían estar limitados financieramente.  "
   ]
  },
  {
   "attachments": {},
   "cell_type": "markdown",
   "metadata": {},
   "source": [
    "Es el momento de ponernos a trabajar con los valores nulos 💪🏽. A lo largo de este ejercicio de pair programming vamos a intentar eliminar los valores nulos de nuestras columnas. En la lección hemos aprendido varios métodos, nosotras os planteamos los ejercicios pero sentiros libres de usar el método que más se adapte a vuestras necesidades. Manos a la obra!  \n",
    "\n",
    "1. Lo primero que tenemos que evaluar es en que columnas tenemos nulos y que cantidad tenemos en cada una. ¿Hay alguna columna con una gran cantidad de nulos? En caso de que sea así deberemos eliminarla.  "
   ]
  },
  {
   "cell_type": "code",
   "execution_count": 2,
   "metadata": {},
   "outputs": [
    {
     "data": {
      "text/html": [
       "<div>\n",
       "<style scoped>\n",
       "    .dataframe tbody tr th:only-of-type {\n",
       "        vertical-align: middle;\n",
       "    }\n",
       "\n",
       "    .dataframe tbody tr th {\n",
       "        vertical-align: top;\n",
       "    }\n",
       "\n",
       "    .dataframe thead th {\n",
       "        text-align: right;\n",
       "    }\n",
       "</style>\n",
       "<table border=\"1\" class=\"dataframe\">\n",
       "  <thead>\n",
       "    <tr style=\"text-align: right;\">\n",
       "      <th></th>\n",
       "      <th>age</th>\n",
       "      <th>job</th>\n",
       "      <th>marital</th>\n",
       "      <th>education</th>\n",
       "      <th>default</th>\n",
       "      <th>housing</th>\n",
       "      <th>loan</th>\n",
       "      <th>contact</th>\n",
       "      <th>duration</th>\n",
       "      <th>campaign</th>\n",
       "      <th>...</th>\n",
       "      <th>poutcome</th>\n",
       "      <th>emp,var,rate</th>\n",
       "      <th>cons,price,idx</th>\n",
       "      <th>cons,conf,idx</th>\n",
       "      <th>euribor3m</th>\n",
       "      <th>nr,employed</th>\n",
       "      <th>y</th>\n",
       "      <th>month_day_week</th>\n",
       "      <th>month</th>\n",
       "      <th>day_week</th>\n",
       "    </tr>\n",
       "  </thead>\n",
       "  <tbody>\n",
       "    <tr>\n",
       "      <th>0</th>\n",
       "      <td>56</td>\n",
       "      <td>housemaid</td>\n",
       "      <td>married</td>\n",
       "      <td>basic 4y</td>\n",
       "      <td>No</td>\n",
       "      <td>No</td>\n",
       "      <td>No</td>\n",
       "      <td>telephone</td>\n",
       "      <td>261</td>\n",
       "      <td>1</td>\n",
       "      <td>...</td>\n",
       "      <td>NONEXISTENT</td>\n",
       "      <td>1.1</td>\n",
       "      <td>93.994</td>\n",
       "      <td>-36.4</td>\n",
       "      <td>4.857</td>\n",
       "      <td>5191,0</td>\n",
       "      <td>no</td>\n",
       "      <td>'may', 'mon'</td>\n",
       "      <td>'may'</td>\n",
       "      <td>'mon'</td>\n",
       "    </tr>\n",
       "    <tr>\n",
       "      <th>1</th>\n",
       "      <td>57</td>\n",
       "      <td>services</td>\n",
       "      <td>married</td>\n",
       "      <td>high school</td>\n",
       "      <td>NaN</td>\n",
       "      <td>No</td>\n",
       "      <td>No</td>\n",
       "      <td>telephone</td>\n",
       "      <td>149</td>\n",
       "      <td>1</td>\n",
       "      <td>...</td>\n",
       "      <td>NONEXISTENT</td>\n",
       "      <td>1.1</td>\n",
       "      <td>93.994</td>\n",
       "      <td>-36.4</td>\n",
       "      <td>4.857</td>\n",
       "      <td>5191,0</td>\n",
       "      <td>no</td>\n",
       "      <td>'may', 'mon'</td>\n",
       "      <td>'may'</td>\n",
       "      <td>'mon'</td>\n",
       "    </tr>\n",
       "    <tr>\n",
       "      <th>2</th>\n",
       "      <td>37</td>\n",
       "      <td>services</td>\n",
       "      <td>married</td>\n",
       "      <td>high school</td>\n",
       "      <td>No</td>\n",
       "      <td>Si</td>\n",
       "      <td>No</td>\n",
       "      <td>telephone</td>\n",
       "      <td>226</td>\n",
       "      <td>1</td>\n",
       "      <td>...</td>\n",
       "      <td>NONEXISTENT</td>\n",
       "      <td>1.1</td>\n",
       "      <td>93.994</td>\n",
       "      <td>-36.4</td>\n",
       "      <td>4.857</td>\n",
       "      <td>5191,0</td>\n",
       "      <td>no</td>\n",
       "      <td>'may', 'mon'</td>\n",
       "      <td>'may'</td>\n",
       "      <td>'mon'</td>\n",
       "    </tr>\n",
       "    <tr>\n",
       "      <th>3</th>\n",
       "      <td>40</td>\n",
       "      <td>administrator</td>\n",
       "      <td>married</td>\n",
       "      <td>basic 6y</td>\n",
       "      <td>No</td>\n",
       "      <td>No</td>\n",
       "      <td>No</td>\n",
       "      <td>telephone</td>\n",
       "      <td>151</td>\n",
       "      <td>1</td>\n",
       "      <td>...</td>\n",
       "      <td>NONEXISTENT</td>\n",
       "      <td>1.1</td>\n",
       "      <td>93.994</td>\n",
       "      <td>-36.4</td>\n",
       "      <td>4.857</td>\n",
       "      <td>5191,0</td>\n",
       "      <td>no</td>\n",
       "      <td>'may', 'mon'</td>\n",
       "      <td>'may'</td>\n",
       "      <td>'mon'</td>\n",
       "    </tr>\n",
       "    <tr>\n",
       "      <th>4</th>\n",
       "      <td>56</td>\n",
       "      <td>services</td>\n",
       "      <td>married</td>\n",
       "      <td>high school</td>\n",
       "      <td>No</td>\n",
       "      <td>No</td>\n",
       "      <td>Si</td>\n",
       "      <td>telephone</td>\n",
       "      <td>307</td>\n",
       "      <td>1</td>\n",
       "      <td>...</td>\n",
       "      <td>NONEXISTENT</td>\n",
       "      <td>1.1</td>\n",
       "      <td>93.994</td>\n",
       "      <td>-36.4</td>\n",
       "      <td>4.857</td>\n",
       "      <td>5191,0</td>\n",
       "      <td>no</td>\n",
       "      <td>'may', 'mon'</td>\n",
       "      <td>'may'</td>\n",
       "      <td>'mon'</td>\n",
       "    </tr>\n",
       "  </tbody>\n",
       "</table>\n",
       "<p>5 rows × 22 columns</p>\n",
       "</div>"
      ],
      "text/plain": [
       "   age            job  marital    education default housing loan    contact  \\\n",
       "0   56      housemaid  married     basic 4y      No      No   No  telephone   \n",
       "1   57       services  married  high school     NaN      No   No  telephone   \n",
       "2   37       services  married  high school      No      Si   No  telephone   \n",
       "3   40  administrator  married     basic 6y      No      No   No  telephone   \n",
       "4   56       services  married  high school      No      No   Si  telephone   \n",
       "\n",
       "   duration  campaign  ...     poutcome  emp,var,rate cons,price,idx  \\\n",
       "0       261         1  ...  NONEXISTENT           1.1         93.994   \n",
       "1       149         1  ...  NONEXISTENT           1.1         93.994   \n",
       "2       226         1  ...  NONEXISTENT           1.1         93.994   \n",
       "3       151         1  ...  NONEXISTENT           1.1         93.994   \n",
       "4       307         1  ...  NONEXISTENT           1.1         93.994   \n",
       "\n",
       "   cons,conf,idx  euribor3m  nr,employed   y month_day_week  month day_week  \n",
       "0          -36.4      4.857       5191,0  no   'may', 'mon'  'may'    'mon'  \n",
       "1          -36.4      4.857       5191,0  no   'may', 'mon'  'may'    'mon'  \n",
       "2          -36.4      4.857       5191,0  no   'may', 'mon'  'may'    'mon'  \n",
       "3          -36.4      4.857       5191,0  no   'may', 'mon'  'may'    'mon'  \n",
       "4          -36.4      4.857       5191,0  no   'may', 'mon'  'may'    'mon'  \n",
       "\n",
       "[5 rows x 22 columns]"
      ]
     },
     "execution_count": 2,
     "metadata": {},
     "output_type": "execute_result"
    }
   ],
   "source": [
    "# cargamos el dataset\n",
    "df = pd.read_csv('../datos/bank-additional-full4.csv', index_col = 0)\n",
    "df.head()"
   ]
  },
  {
   "cell_type": "code",
   "execution_count": 3,
   "metadata": {},
   "outputs": [
    {
     "name": "stdout",
     "output_type": "stream",
     "text": [
      "A continuación mostramos el porcentaje de nulos para las columnas \n",
      "age                0.000000\n",
      "job                0.801438\n",
      "marital            0.194288\n",
      "education          4.201477\n",
      "default           20.876239\n",
      "housing            2.404313\n",
      "loan               2.404313\n",
      "contact            0.000000\n",
      "duration           0.000000\n",
      "campaign           0.000000\n",
      "pdays              0.000000\n",
      "previous           0.000000\n",
      "poutcome           0.000000\n",
      "emp,var,rate       0.000000\n",
      "cons,price,idx     0.000000\n",
      "cons,conf,idx      0.000000\n",
      "euribor3m          0.000000\n",
      "nr,employed        0.000000\n",
      "y                  0.000000\n",
      "month_day_week     0.000000\n",
      "month              0.000000\n",
      "day_week           0.000000\n",
      "dtype: float64\n"
     ]
    }
   ],
   "source": [
    "print(f'A continuación mostramos el porcentaje de nulos para las columnas \\n{df.isnull().sum()/df.shape[0]*100}')"
   ]
  },
  {
   "cell_type": "code",
   "execution_count": 4,
   "metadata": {},
   "outputs": [],
   "source": [
    "# llama la atención el alto porcentaje de nulos de la columna 'default' respecto al resto.\n",
    "# Además, es una columna que no afecta a las hipótesis que estamos analizando, por lo que la podríamos eliminar pero no se considera que un 20% de nulos justifique la pérdida de datos que eso podría ocasionar\n",
    "# En caso de decidir eliminarla se haría de la siguiente manera:\n",
    "# df = df.drop(columns=['default'])\n",
    "# df.columns"
   ]
  },
  {
   "attachments": {},
   "cell_type": "markdown",
   "metadata": {},
   "source": [
    "2. Es el momento de eliminar los nulos:\n",
    "- Reemplazad los valores nulos de la columna age por la media de la edad, redondeada a dos decimales."
   ]
  },
  {
   "cell_type": "code",
   "execution_count": 5,
   "metadata": {},
   "outputs": [
    {
     "name": "stdout",
     "output_type": "stream",
     "text": [
      "Comprobamos que los nulos de la columna tratada han desaparecido: \n",
      "age                0.000000\n",
      "job                0.801438\n",
      "marital            0.194288\n",
      "education          4.201477\n",
      "default           20.876239\n",
      "housing            2.404313\n",
      "loan               2.404313\n",
      "contact            0.000000\n",
      "duration           0.000000\n",
      "campaign           0.000000\n",
      "pdays              0.000000\n",
      "previous           0.000000\n",
      "poutcome           0.000000\n",
      "emp,var,rate       0.000000\n",
      "cons,price,idx     0.000000\n",
      "cons,conf,idx      0.000000\n",
      "euribor3m          0.000000\n",
      "nr,employed        0.000000\n",
      "y                  0.000000\n",
      "month_day_week     0.000000\n",
      "month              0.000000\n",
      "day_week           0.000000\n",
      "dtype: float64\n"
     ]
    }
   ],
   "source": [
    "df['age'].fillna(df['age'].mean().round(2), inplace=True)\n",
    "print(f'Comprobamos que los nulos de la columna tratada han desaparecido: \\n{df.isnull().sum()/df.shape[0]*100}')"
   ]
  },
  {
   "attachments": {},
   "cell_type": "markdown",
   "metadata": {},
   "source": [
    "- Reemplazad los valores nulos de la columna duration por la mediana de la duración, redondeada a dos decimales."
   ]
  },
  {
   "cell_type": "code",
   "execution_count": 6,
   "metadata": {},
   "outputs": [
    {
     "name": "stdout",
     "output_type": "stream",
     "text": [
      "Comprobamos que los nulos de la columna tratada han desaparecido \n",
      "age                0.000000\n",
      "job                0.801438\n",
      "marital            0.194288\n",
      "education          4.201477\n",
      "default           20.876239\n",
      "housing            2.404313\n",
      "loan               2.404313\n",
      "contact            0.000000\n",
      "duration           0.000000\n",
      "campaign           0.000000\n",
      "pdays              0.000000\n",
      "previous           0.000000\n",
      "poutcome           0.000000\n",
      "emp,var,rate       0.000000\n",
      "cons,price,idx     0.000000\n",
      "cons,conf,idx      0.000000\n",
      "euribor3m          0.000000\n",
      "nr,employed        0.000000\n",
      "y                  0.000000\n",
      "month_day_week     0.000000\n",
      "month              0.000000\n",
      "day_week           0.000000\n",
      "dtype: float64\n"
     ]
    }
   ],
   "source": [
    "df['duration'].fillna(df['duration'].median().round(2), inplace=True)\n",
    "print(f'Comprobamos que los nulos de la columna tratada han desaparecido \\n{df.isnull().sum()/df.shape[0]*100}')"
   ]
  },
  {
   "attachments": {},
   "cell_type": "markdown",
   "metadata": {},
   "source": [
    "- En relación a las columnas de education, default, housing y loan al tratarse de columnas de tipo categórica, reemplazad los valores nulos por una nueva categória que se llame unknown."
   ]
  },
  {
   "cell_type": "code",
   "execution_count": 7,
   "metadata": {},
   "outputs": [
    {
     "name": "stdout",
     "output_type": "stream",
     "text": [
      "Comprobamos que los nulos de las columnas tratadas han desaparecido \n",
      "age               0.000000\n",
      "job               0.801438\n",
      "marital           0.194288\n",
      "education         0.000000\n",
      "default           0.000000\n",
      "housing           0.000000\n",
      "loan              0.000000\n",
      "contact           0.000000\n",
      "duration          0.000000\n",
      "campaign          0.000000\n",
      "pdays             0.000000\n",
      "previous          0.000000\n",
      "poutcome          0.000000\n",
      "emp,var,rate      0.000000\n",
      "cons,price,idx    0.000000\n",
      "cons,conf,idx     0.000000\n",
      "euribor3m         0.000000\n",
      "nr,employed       0.000000\n",
      "y                 0.000000\n",
      "month_day_week    0.000000\n",
      "month             0.000000\n",
      "day_week          0.000000\n",
      "dtype: float64\n"
     ]
    }
   ],
   "source": [
    "df[['education', 'default', 'housing', 'loan']] = df[['education', 'default', 'housing', 'loan']].replace(np.nan, 'unknown')\n",
    "print(f'Comprobamos que los nulos de las columnas tratadas han desaparecido \\n{df.isnull().sum()/df.shape[0]*100}')"
   ]
  },
  {
   "cell_type": "code",
   "execution_count": 8,
   "metadata": {},
   "outputs": [
    {
     "data": {
      "text/plain": [
       "array(['basic 4y', 'high school', 'basic 6y', 'basic 9y',\n",
       "       'professional course', 'unknown', 'university degree',\n",
       "       'illiterate'], dtype=object)"
      ]
     },
     "execution_count": 8,
     "metadata": {},
     "output_type": "execute_result"
    }
   ],
   "source": [
    "# comprobamos un ejemplo\n",
    "df['education'].unique()"
   ]
  },
  {
   "cell_type": "markdown",
   "metadata": {},
   "source": [
    "- Reemplazad los valores nulos de las columna job y marital por el valor más frecuente (la moda)."
   ]
  },
  {
   "cell_type": "code",
   "execution_count": 9,
   "metadata": {},
   "outputs": [],
   "source": [
    "df['job'].replace(np.nan, df['job'].mode()[0], inplace = True)\n",
    "df['marital'].replace(np.nan, df['marital'].mode()[0], inplace = True)"
   ]
  },
  {
   "cell_type": "code",
   "execution_count": 10,
   "metadata": {},
   "outputs": [
    {
     "name": "stdout",
     "output_type": "stream",
     "text": [
      "Comprobamos que los nulos de las columnas tratadas han desaparecido \n",
      "age               0.0\n",
      "job               0.0\n",
      "marital           0.0\n",
      "education         0.0\n",
      "default           0.0\n",
      "housing           0.0\n",
      "loan              0.0\n",
      "contact           0.0\n",
      "duration          0.0\n",
      "campaign          0.0\n",
      "pdays             0.0\n",
      "previous          0.0\n",
      "poutcome          0.0\n",
      "emp,var,rate      0.0\n",
      "cons,price,idx    0.0\n",
      "cons,conf,idx     0.0\n",
      "euribor3m         0.0\n",
      "nr,employed       0.0\n",
      "y                 0.0\n",
      "month_day_week    0.0\n",
      "month             0.0\n",
      "day_week          0.0\n",
      "dtype: float64\n"
     ]
    }
   ],
   "source": [
    "print(f'Comprobamos que los nulos de las columnas tratadas han desaparecido \\n{df.isnull().sum()/df.shape[0]*100}')"
   ]
  },
  {
   "cell_type": "markdown",
   "metadata": {},
   "source": [
    "3. Guardad el csv."
   ]
  },
  {
   "cell_type": "code",
   "execution_count": 11,
   "metadata": {},
   "outputs": [],
   "source": [
    "df.to_csv('../datos/bank-additional-full5.csv')"
   ]
  }
 ],
 "metadata": {
  "kernelspec": {
   "display_name": "adalabenv",
   "language": "python",
   "name": "python3"
  },
  "language_info": {
   "codemirror_mode": {
    "name": "ipython",
    "version": 3
   },
   "file_extension": ".py",
   "mimetype": "text/x-python",
   "name": "python",
   "nbconvert_exporter": "python",
   "pygments_lexer": "ipython3",
   "version": "3.10.9"
  },
  "orig_nbformat": 4
 },
 "nbformat": 4,
 "nbformat_minor": 2
}
